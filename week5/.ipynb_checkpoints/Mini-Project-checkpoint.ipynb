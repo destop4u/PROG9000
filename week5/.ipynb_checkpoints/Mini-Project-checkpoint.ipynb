{
 "cells": [
  {
   "cell_type": "markdown",
   "metadata": {},
   "source": [
    "# Mini-project Details\n",
    "\n",
    " - Project Marks: 30% of Module\n",
    " \n",
    " - No exercises will be given between now and the hand-up date for this module.\n",
    "\n",
    " - Email a python script of the form \"studentnumber_MiniProject.py\" - for example \"D15126453_MiniProject.py\" to mickleod@gmail.com by 23:59:59 on 29th November. Late results will incur a 10% penalty per day late.\n",
    "\n",
    "### It must be your own work!\n"
   ]
  },
  {
   "cell_type": "markdown",
   "metadata": {},
   "source": [
    "## Brief:\n",
    "\n",
    "Create a program that downloads a csv file from the internet containing some statistical information, lots of examples can be found at https://data.gov.ie/\n",
    "\n",
    "Then, have your program parse the file and create:\n",
    "\n",
    " - a pretty printed list of the structure of the file. This should outline:\n",
    "     - which are the unique id columns (like UID, GUID etc. - every value in these columns will be different)\n",
    "     - the number of columns\n",
    "     - the number of rows in the file\n",
    "     - the tpye of data in each column\n",
    "     - the max, min, mean, median and standard deviation of each numerical type column\n",
    "     - the distinct items in any categorical column\n",
    "     \n",
    " - the user of your program should be able to enter a url and have the program return either the result shown above if it is a valid url, or a reasonable error message, showing what went wrong.\n",
    " \n",
    " - the user should have the option to save the file also\n",
    "\n",
    "Use \"Spyder\" to build this program as you __will__ need to use the debugger!!!\n",
    "\n",
    "Good luck!"
   ]
  }
 ],
 "metadata": {
  "kernelspec": {
   "display_name": "Python 3",
   "language": "python",
   "name": "python3"
  },
  "language_info": {
   "codemirror_mode": {
    "name": "ipython",
    "version": 3
   },
   "file_extension": ".py",
   "mimetype": "text/x-python",
   "name": "python",
   "nbconvert_exporter": "python",
   "pygments_lexer": "ipython3",
   "version": "3.6.5"
  }
 },
 "nbformat": 4,
 "nbformat_minor": 2
}
