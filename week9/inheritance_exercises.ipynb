{
 "cells": [
  {
   "cell_type": "markdown",
   "metadata": {},
   "source": [
    "# Inheritance Exercise\n",
    "\n",
    "1.\t\n",
    "Create a bank account class that contains the following attributes and methods:\n",
    "Attributes: name , address, account_number, balance, pending_pos,  pending_neg\n",
    "Methods: funds_available  (balance+pending_pos – pending_neg)"
   ]
  },
  {
   "cell_type": "markdown",
   "metadata": {},
   "source": [
    "2.\t\n",
    "Create two subclasses : regular account and savings account.\n",
    "A.\tThe regular account contains all attributes and methods from Bankaccount and the following:\n",
    "Attributes:  fee (€20), feewaiver(‘y’ or ‘n’), cards (€30)\n",
    "Methods: updatefeewaiver (if the funds_available >2000 , feewaiver ‘y’otherwise ‘n’\n",
    "chargefee (if feewaiver is no, pending_neg=fee)\n",
    "\n",
    "B.\tThe savings account contains all attributes and methods from Bankaccount and the following:\n",
    "Attributes: pending_neg=0 money cannot be removed from the account\n",
    "Methods: funds_available (balance+pending_pos)\n",
    "cashinterest (0.1% of balance added)"
   ]
  },
  {
   "cell_type": "markdown",
   "metadata": {},
   "source": [
    "3.\t\n",
    "Create some regular and savings accounts, use a function returning a list."
   ]
  },
  {
   "cell_type": "markdown",
   "metadata": {},
   "source": [
    "4.\t\n",
    "Save that file as bankfile and import it into another one called banksystem. In this file, calculate the following:\n",
    "-Given a customer name, find their available funds.  \n",
    "-Find all accounts from Dublin, return the name of the account holder.\n",
    "-Find all customers with savings accounts.\n",
    "-Charge the annual fee to all customers who are not entitled to the fee waiver."
   ]
  }
 ],
 "metadata": {
  "kernelspec": {
   "display_name": "Python 3",
   "language": "python",
   "name": "python3"
  },
  "language_info": {
   "codemirror_mode": {
    "name": "ipython",
    "version": 3
   },
   "file_extension": ".py",
   "mimetype": "text/x-python",
   "name": "python",
   "nbconvert_exporter": "python",
   "pygments_lexer": "ipython3",
   "version": "3.6.5"
  }
 },
 "nbformat": 4,
 "nbformat_minor": 2
}
