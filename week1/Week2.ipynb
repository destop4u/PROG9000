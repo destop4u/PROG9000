{
 "cells": [
  {
   "cell_type": "code",
   "execution_count": 4,
   "metadata": {},
   "outputs": [
    {
     "name": "stdout",
     "output_type": "stream",
     "text": [
      "Please supply a temperature in Faherenheit45.6\n",
      "45.6 degress Fahrenheit in degrees Celsius is 7.56\n"
     ]
    }
   ],
   "source": [
    "# Fahrenheit to Celsius Converter\n",
    "\n",
    "fahr_temp_float = float(input(\"Please supply a temperature in Faherenheit\"))\n",
    "\n",
    "# conversion is C = ((F - 32) * 5) / 9\n",
    "\n",
    "cel_temp = ((fahr_temp_float - 32) * 5) / 9\n",
    "\n",
    "cel_temp = round(cel_temp, 2)\n",
    "\n",
    "print(fahr_temp_float, \"degrees Fahrenheit in degrees Celsius is\", str(cel_temp))"
   ]
  },
  {
   "cell_type": "code",
   "execution_count": 5,
   "metadata": {},
   "outputs": [
    {
     "name": "stdout",
     "output_type": "stream",
     "text": [
      "Please supply a temperature in Celsius-37\n",
      "-37.0 degrees Celsius in degrees Fahrenheit is -34.6\n"
     ]
    }
   ],
   "source": [
    "# Celsius to Fahrenheit Converter\n",
    "\n",
    "cel_temp_float = float(input(\"Please supply a temperature in Celsius\"))\n",
    "\n",
    "# conversion is F = (C * 9 / 5) + 32\n",
    "\n",
    "#cel_temp = ((fahr_temp_float - 32) * 5) / 9\n",
    "fahr_temp = (cel_temp_float * 9 / 5) + 32\n",
    "\n",
    "fahr_temp = round(fahr_temp, 2)\n",
    "\n",
    "print(cel_temp_float, \"degrees Celsius in degrees Fahrenheit is\", str(fahr_temp))"
   ]
  },
  {
   "cell_type": "code",
   "execution_count": null,
   "metadata": {},
   "outputs": [],
   "source": [
    "x =int(input(\"Please supply a number\"))\n",
    "\n",
    "if x < 100:\n",
    "    if x % 2 == 0:\n",
    "        print(\"even number below 100\")\n",
    "    else:\n",
    "        print(\"odd number below 100\")\n",
    "else:\n",
    "    print(\"number is greater than or equal to 100\")"
   ]
  },
  {
   "cell_type": "code",
   "execution_count": 5,
   "metadata": {},
   "outputs": [
    {
     "name": "stdout",
     "output_type": "stream",
     "text": [
      "Please type '1' for Celsius to Fahrenheit, \n",
      "or type '2' for Fahrenheit to Celsius.4\n",
      "Please try again - you input an invalid choice!!!\n"
     ]
    }
   ],
   "source": [
    "# Celsius to Fahrenheit Converter or Fahrenheit to Celsius Converter\n",
    "\n",
    "conversion_type = int(input(\"Please type '1' for Celsius to Fahrenheit, \\n\" +\n",
    "                        \"or type '2' for Fahrenheit to Celsius.\"))\n",
    "\n",
    "if conversion_type == 1:\n",
    "    cel_temp_float = float(input(\"Please supply a temperature in Celsius\"))\n",
    "    fahr_temp = (cel_temp_float * 9 / 5) + 32\n",
    "    fahr_temp = round(fahr_temp, 2)\n",
    "    print(cel_temp_float, \"degrees Celsius in degrees Fahrenheit is\", str(fahr_temp))\n",
    "elif conversion_type == 2:\n",
    "    fahr_temp_float = float(input(\"Please supply a temperature in Faherenheit\"))\n",
    "    cel_temp = ((fahr_temp_float - 32) * 5) / 9\n",
    "    cel_temp = round(cel_temp, 2)\n",
    "    print(fahr_temp_float, \"degrees Fahrenheit in degrees Celsius is\", str(cel_temp))\n",
    "else:\n",
    "    print(\"Please try again - you input an invalid choice!!!\")\n",
    "    \n",
    "\n",
    "#cel_temp_float = float(input(\"Please supply a temperature in Celsius\"))\n",
    "\n",
    "# conversion is F = (C * 9 / 5) + 32\n",
    "\n",
    "#cel_temp = ((fahr_temp_float - 32) * 5) / 9\n",
    "#fahr_temp = (cel_temp_float * 9 / 5) + 32\n",
    "\n",
    "#fahr_temp = round(fahr_temp, 2)\n",
    "\n",
    "#print(cel_temp_float, \"degrees Celsius in degrees Fahrenheit is\", str(fahr_temp))"
   ]
  },
  {
   "cell_type": "code",
   "execution_count": null,
   "metadata": {},
   "outputs": [],
   "source": [
    "cake_sugar = float(input (\"Please enter sugar value\"))\n",
    "\n",
    "if cake_sugar < 300:\n",
    "    print(\"Low sugar\")\n",
    "elif cake_sugar > 500:\n",
    "    print(\"high sugar\")\n",
    "else:\n",
    "    print(\"medium sugar\")"
   ]
  },
  {
   "cell_type": "markdown",
   "metadata": {},
   "source": [
    "## Lists"
   ]
  },
  {
   "cell_type": "code",
   "execution_count": 14,
   "metadata": {},
   "outputs": [
    {
     "data": {
      "text/plain": [
       "['Alice', 'Tobi']"
      ]
     },
     "execution_count": 14,
     "metadata": {},
     "output_type": "execute_result"
    }
   ],
   "source": [
    "# create a list to hold the class names:\n",
    "\n",
    "prog9000_names = [\"Garret\", \"Alice\", \"Christine\", \"Tobi\"]\n",
    "\n",
    "len(prog9000_names)\n",
    "\n",
    "prog9000_names[1::2]"
   ]
  },
  {
   "cell_type": "code",
   "execution_count": 15,
   "metadata": {},
   "outputs": [
    {
     "data": {
      "text/plain": [
       "'Ti ls ed  ra on'"
      ]
     },
     "execution_count": 15,
     "metadata": {},
     "output_type": "execute_result"
    }
   ],
   "source": [
    "str_var = \"This class needs a break soon\"\n",
    "\n",
    "str_var[::2]"
   ]
  },
  {
   "cell_type": "markdown",
   "metadata": {},
   "source": [
    "## for loops"
   ]
  },
  {
   "cell_type": "code",
   "execution_count": 18,
   "metadata": {},
   "outputs": [
    {
     "name": "stdout",
     "output_type": "stream",
     "text": [
      "T\n",
      "h\n",
      "i\n",
      "s\n",
      " \n",
      "i\n",
      "s\n",
      " \n",
      "a\n",
      " \n",
      "s\n",
      "e\n",
      "n\n",
      "t\n",
      "e\n",
      "n\n",
      "c\n",
      "e\n"
     ]
    }
   ],
   "source": [
    "sentence = \"This is a sentence\"\n",
    "\n",
    "for tutu in sentence:\n",
    "    print(tutu)"
   ]
  }
 ],
 "metadata": {
  "kernelspec": {
   "display_name": "Python 3",
   "language": "python",
   "name": "python3"
  }
 },
 "nbformat": 4,
 "nbformat_minor": 2
}
