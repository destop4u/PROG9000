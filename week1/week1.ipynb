{
 "cells": [
  {
   "cell_type": "markdown",
   "metadata": {},
   "source": [
    "# Week 1 - Background to Python and Basic Programming\n",
    "\n",
    "_Python is an interpreted high-level programming language for general-purpose programming._\n",
    "\n",
    "_Created by Guido van Rossum and first released in 1991, Python has a design philosophy that emphasizes code readability, notably using significant whitespace._\n",
    "\n",
    "_It provides constructs that enable clear programming on both small and large scales._\n",
    "\n",
    " - It is used in many domains, ranging from web development, to data science, robots, astrophysics, music, linguistics and.... GIS! \n",
    " - It is seen as a language that is easy to learn, but can be used for very large and complex projects. Well known users of Python include WIkipedia, Google, Dropbox, NASA.. Software for small arduinos to Boeing 787s can and is written in Python.\n",
    " - It has a modular structure - you import a library with code to perform a particular task. for example, the `pandas` library is used for data analysis, and allows manipulation of data in tabular format, kind of like Excel.\n",
    "\n",
    "There are several ways to use and write Python. This is a `Jupyter Notebook` - it is a way to write nicely formatted text in the form of markdown in the same page as a piece of code.\n"
   ]
  },
  {
   "cell_type": "code",
   "execution_count": 10,
   "metadata": {},
   "outputs": [
    {
     "ename": "TypeError",
     "evalue": "must be str, not int",
     "output_type": "error",
     "traceback": [
      "\u001b[1;31m---------------------------------------------------------------------------\u001b[0m",
      "\u001b[1;31mTypeError\u001b[0m                                 Traceback (most recent call last)",
      "\u001b[1;32m<ipython-input-10-b7148f8d6df9>\u001b[0m in \u001b[0;36m<module>\u001b[1;34m()\u001b[0m\n\u001b[0;32m      3\u001b[0m \u001b[0mage\u001b[0m \u001b[1;33m=\u001b[0m \u001b[1;36m6\u001b[0m\u001b[1;33m\u001b[0m\u001b[0m\n\u001b[0;32m      4\u001b[0m \u001b[1;33m\u001b[0m\u001b[0m\n\u001b[1;32m----> 5\u001b[1;33m \u001b[0mfirst_name\u001b[0m \u001b[1;33m+\u001b[0m \u001b[0mage\u001b[0m\u001b[1;33m\u001b[0m\u001b[0m\n\u001b[0m\u001b[0;32m      6\u001b[0m \u001b[1;33m\u001b[0m\u001b[0m\n\u001b[0;32m      7\u001b[0m \u001b[0mprint\u001b[0m\u001b[1;33m(\u001b[0m\u001b[0mfirst_name\u001b[0m\u001b[1;33m,\u001b[0m \u001b[0mlast_name\u001b[0m\u001b[1;33m,\u001b[0m \u001b[1;34m\"my age is\"\u001b[0m\u001b[1;33m,\u001b[0m \u001b[0mage\u001b[0m\u001b[1;33m)\u001b[0m\u001b[1;33m\u001b[0m\u001b[0m\n",
      "\u001b[1;31mTypeError\u001b[0m: must be str, not int"
     ]
    }
   ],
   "source": [
    "first_name = \"Mick\"\n",
    "last_name = \"O'Donnell\"\n",
    "age = 6\n",
    "\n",
    "first_name + age\n",
    "\n",
    "print(first_name, last_name, \"my age is\", age)"
   ]
  },
  {
   "cell_type": "markdown",
   "metadata": {},
   "source": [
    "The easiest way to get access to Jupyter notebooks is to install Anaconda. This is a big package of software that is specifically aimed towards scientific or data analysis. You can find the download link at https://www.anaconda.com/download/. Just follow the prompts to install it. You will want the Python 3.6 version probably for 64 bit.\n",
    "\n",
    "Like any software, Python can be a bit troublesome to install and manage, especially when you look at more advanced uses. Using Anaconda will help you keep your install clean and minimise any issues with software dependency clashes."
   ]
  },
  {
   "cell_type": "markdown",
   "metadata": {},
   "source": [
    "## Using Jupyter Notebooks\n",
    "\n",
    "You can access the shortcut menu for Jupyter by clicking help - keyboard shortcuts. This will help you write code with less effort. You can also access the Python reference documentation here too. Give it a try.\n",
    "\n",
    "Another method is to use an IDE, or Integrated Development Environment. This allows some more advanced tools to be used, such as code completion, debugging, refactoring.. There is `Spyder` which comes bundled with Anaconda. We will use this to write some code later, and it will allow us to debug and inspect variables easily. More fully featured IDEs are available \n",
    "(Pycharm is my favourite) but add a lot of unneeded functionality at this early stage."
   ]
  },
  {
   "cell_type": "code",
   "execution_count": null,
   "metadata": {},
   "outputs": [],
   "source": []
  },
  {
   "cell_type": "markdown",
   "metadata": {},
   "source": [
    "## Git\n",
    "\n",
    "I want you to set up a Github repo to help me track your progress during the course. Follow the directions below:\n",
    "\n",
    " - Go to https://help.github.com/articles/applying-for-a-student-developer-pack/ and set up an account. Use your DIT email address to get a free one year license. \n",
    " - Create a public repository called DT9420. This will hold all your coursework and project work. I will check in on it to see how you are progressing!!!!\n",
    " - I will also get you to email me your weekly assignments; please use your DIT email address and put the module code first in the subject line. If you really need to email me from a different address, _definitely_ put the module code first in the subject line."
   ]
  },
  {
   "cell_type": "markdown",
   "metadata": {},
   "source": [
    "## Python in GIS\n",
    "\n",
    "Python is widely used in GIS - the very popular and powerful open source GIS `QGIS` is mostly written in Python, and it is possible to do anything that can be done in the GUI via code. There is also a Python terminal and simple IDE within QGIS. ArcGIS allows scripting with Python, which you wil cover in another module.\n",
    "\n",
    "There is a lot of development being done with Python for GIS - libraries like PySAL and geopandas are used for geospatial data analysis, while older libraries like GDAL, Shapely and Fiona do foundational functions like reading/writing geospatial data, geometric operations and projection. You will also be looking at this in a later module. "
   ]
  },
  {
   "cell_type": "markdown",
   "metadata": {},
   "source": [
    "## Resources\n",
    "\n",
    "Stackoverflow is a website where users ask and answer questions about.. everything. It's a good place to go if you have a problem that you can't find a solution for on the web. Do read up on how to ask a question though - people appreciate you doing a bit of homework and trying to solve the problem yourself. https://stackoverflow.com/\n",
    "\n",
    "Al Sweigart has a great book called - \"Automate the Boring Stuff\". He used the automation of tedious everyday tasks on a computer as a way to teach basic programming concepts. It's available for free at https://automatetheboringstuff.com/#toc\n",
    "\n",
    "Podcasts - https://talkpython.fm/ is a very in depth look at Python use, developing and the language in general. https://talkpython.fm/episodes/show/44/project-jupyter-and-ipython is all about the notebooks we're using. Another good one is https://talkpython.fm/episodes/show/16/python-at-netflix, and https://talkpython.fm/episodes/show/19/automate-the-boring-stuff-with-python and https://talkpython.fm/episodes/show/24/fluent-python\n",
    "\n",
    "I'll put some more resources up for specific things."
   ]
  },
  {
   "cell_type": "markdown",
   "metadata": {
    "collapsed": true
   },
   "source": [
    "## Basic Programming\n",
    "\n",
    "Here we will look at some basics of programming, namely \n",
    " - mathematical operators\n",
    " - logical operators\n",
    " - simple input and output\n",
    " - data types\n",
    "\n",
    "Mathematical operators are simple:\n",
    "\n",
    "\n",
    "\n",
    "addition: `x + y`\n",
    "\n",
    "subtraction `x - y`\n",
    "\n",
    "multiplication `x * y`\n",
    "\n",
    "division `x / y`\n",
    "\n",
    "integer division `x // y`\n",
    "\n",
    "modulus or remainder `x % y`\n",
    "\n",
    "power `x ** y`\n",
    "\n",
    "There are lots more mathematical operations (just as a scientific calculator has) that can be accessed via the **math** library. `import math`\n"
   ]
  },
  {
   "cell_type": "code",
   "execution_count": 15,
   "metadata": {},
   "outputs": [
    {
     "name": "stdout",
     "output_type": "stream",
     "text": [
      "<class 'int'>\n",
      "<class 'float'>\n",
      "Addition:  30.869999999999997\n",
      "Subtration:  13.13\n",
      "Multiplication:  195.14\n",
      "Division:  2.4802705749718155\n",
      "Integer Division:  2.0\n",
      "Modulus:  4.260000000000002\n",
      "Power:  807772713956.3335\n",
      "\n",
      "Log:  3.091042453358316\n",
      "1.75\n"
     ]
    }
   ],
   "source": [
    "import math\n",
    "\n",
    "x = 22\n",
    "float_x = 22.0\n",
    "\n",
    "z = 7/4\n",
    "\n",
    "\n",
    "print(type(x))\n",
    "print(type(float_x))\n",
    "\n",
    "y = 8.87\n",
    "\n",
    "print('Addition: ', x + y)\n",
    "print('Subtration: ', x - y)\n",
    "print('Multiplication: ', x * y)\n",
    "print('Division: ', x / y)\n",
    "print('Integer Division: ', x // y)\n",
    "print('Modulus: ', x % y)\n",
    "print('Power: ', x ** y)\n",
    "\n",
    "print('\\nLog: ', math.log(x))\n",
    "\n",
    "print(z)\n"
   ]
  },
  {
   "cell_type": "markdown",
   "metadata": {},
   "source": [
    "Python uses standard mathematical evaluation precedence - multiplication takes precedence over subtraction. You can ensure that an operation is done the way you intend it by using brackets. From Swiegart's Book:\n",
    "\n",
    "> The order of operations (also called precedence) of Python math operators is similar to that of mathematics. The ** operator is evaluated first; the *, /, //, and % operators are evaluated next, from left to right; and the + and - operators are evaluated last (also from left to right). You can use parentheses to override the usual precedence if you need to."
   ]
  },
  {
   "cell_type": "code",
   "execution_count": 16,
   "metadata": {},
   "outputs": [
    {
     "data": {
      "text/plain": [
       "23"
      ]
     },
     "execution_count": 16,
     "metadata": {},
     "output_type": "execute_result"
    }
   ],
   "source": [
    "20 + 1 * 3"
   ]
  },
  {
   "cell_type": "code",
   "execution_count": 17,
   "metadata": {},
   "outputs": [
    {
     "data": {
      "text/plain": [
       "63"
      ]
     },
     "execution_count": 17,
     "metadata": {},
     "output_type": "execute_result"
    }
   ],
   "source": [
    "(20 + 1) * 3"
   ]
  },
  {
   "cell_type": "markdown",
   "metadata": {},
   "source": [
    "If we wanted to perform some more complicated procedure, we can build the process from these blocks. For example, to get the distance between two points A and B with co-ordinates (1,2) and (3,4) respectively, we can use the formula for the Euclidean distance:\n",
    "$$ d = \\sqrt{(x_2 - x_1)^2 + (y_2 - y_1)^2} $$\n",
    "\n",
    "Give this a try now. The answer you need to get is 2.8284271247461903\n",
    "\n",
    "Steps in doing this:\n",
    " - assign values to variables `x1 = 1` etc.\n",
    " \n",
    " - write the formula starting with the inside and working out\n",
    " \n",
    " - run the piece of code (click run button or ctrl-enter)\n",
    " \n",
    " I've helped you out by filling out some of the code."
   ]
  },
  {
   "cell_type": "code",
   "execution_count": 19,
   "metadata": {},
   "outputs": [
    {
     "name": "stdout",
     "output_type": "stream",
     "text": [
      "5.0\n"
     ]
    }
   ],
   "source": [
    "# assign values to variables\n",
    "x1 = 0\n",
    "x2 = 4\n",
    "y1 = 0\n",
    "y2 = 3\n",
    "\n",
    "# write formula\n",
    "d = ((x2 - x1)**2 + (y2 - y1)**2)**0.5\n",
    "\n",
    "# output the answer - note we convert the numeric d to a string before output with the str() function\n",
    "\n",
    "print(str(d))"
   ]
  },
  {
   "cell_type": "markdown",
   "metadata": {},
   "source": [
    "## Input and Output:\n",
    "\n",
    "To get some user input, use the `input()` function.\n",
    "\n",
    "To generate a simple output, use `print()` function.\n",
    "\n",
    "More detail here: https://docs.python.org/3.6/tutorial/inputoutput.html?highlight=input"
   ]
  },
  {
   "cell_type": "code",
   "execution_count": 21,
   "metadata": {},
   "outputs": [
    {
     "name": "stdout",
     "output_type": "stream",
     "text": [
      "Please type in your nameMicky\n",
      "Username: Micky\n"
     ]
    }
   ],
   "source": [
    "username = input(\"Please type in your name\")\n",
    "print(\"Username:\",username)"
   ]
  },
  {
   "cell_type": "markdown",
   "metadata": {},
   "source": [
    "## Data Types\n",
    "\n",
    "Like most programming languages, Python stores data in different ways depending on the type of the data. For example, storing something as a `numeric` type means that it can have mathematical operations performed on it. Or if it is of `string` type, it can have operations performed on it that are specific to words and characters. Python will automatically assign the value to a variable which is of the appropriate type. For instance, in the cell below, 4 gets assigned to an int type - it is obviously an integer. A foating point number is just another represention of a number, with a slightly different structure. This is done to help with memory use."
   ]
  },
  {
   "cell_type": "code",
   "execution_count": 22,
   "metadata": {},
   "outputs": [
    {
     "name": "stdout",
     "output_type": "stream",
     "text": [
      "<class 'int'>\n",
      "<class 'float'>\n",
      "<class 'float'>\n"
     ]
    }
   ],
   "source": [
    "a_number = 4\n",
    "\n",
    "print(type(a_number))\n",
    "\n",
    "a_number**2\n",
    "\n",
    "another_number = 4.0\n",
    "\n",
    "print(type(another_number))\n",
    "\n",
    "x = a_number / another_number\n",
    "\n",
    "print(type(x))"
   ]
  },
  {
   "cell_type": "code",
   "execution_count": 24,
   "metadata": {},
   "outputs": [
    {
     "name": "stdout",
     "output_type": "stream",
     "text": [
      "<class 'float'>\n"
     ]
    }
   ],
   "source": [
    "x = a_number / another_number\n",
    "\n",
    "print(type(x))"
   ]
  },
  {
   "cell_type": "markdown",
   "metadata": {},
   "source": [
    "Let's look at some strings. "
   ]
  },
  {
   "cell_type": "code",
   "execution_count": 26,
   "metadata": {},
   "outputs": [
    {
     "name": "stdout",
     "output_type": "stream",
     "text": [
      "<class 'str'>\n",
      "hello world\n"
     ]
    }
   ],
   "source": [
    "a_word = \"Hello World\"\n",
    "another_word = \"Spam and Eggs\"\n",
    "a_numeral = \"4\"\n",
    "\n",
    "print(type(a_word))\n",
    "\n",
    "print(a_word.lower())"
   ]
  },
  {
   "cell_type": "markdown",
   "metadata": {},
   "source": [
    "Some numeric operations work, but not the way you might think....."
   ]
  },
  {
   "cell_type": "code",
   "execution_count": null,
   "metadata": {},
   "outputs": [],
   "source": [
    "a_word + another_word"
   ]
  },
  {
   "cell_type": "markdown",
   "metadata": {},
   "source": [
    "Some don't work and will give an error. You will get used to this, and the error message will give you some information you need to fix the problem. If you can't figure it out.... google it!"
   ]
  },
  {
   "cell_type": "code",
   "execution_count": 27,
   "metadata": {},
   "outputs": [
    {
     "ename": "TypeError",
     "evalue": "unsupported operand type(s) for ** or pow(): 'str' and 'int'",
     "output_type": "error",
     "traceback": [
      "\u001b[1;31m---------------------------------------------------------------------------\u001b[0m",
      "\u001b[1;31mTypeError\u001b[0m                                 Traceback (most recent call last)",
      "\u001b[1;32m<ipython-input-27-2d1701b89a18>\u001b[0m in \u001b[0;36m<module>\u001b[1;34m()\u001b[0m\n\u001b[1;32m----> 1\u001b[1;33m \u001b[0ma_word\u001b[0m\u001b[1;33m**\u001b[0m\u001b[1;36m2\u001b[0m\u001b[1;33m\u001b[0m\u001b[0m\n\u001b[0m",
      "\u001b[1;31mTypeError\u001b[0m: unsupported operand type(s) for ** or pow(): 'str' and 'int'"
     ]
    }
   ],
   "source": [
    "a_word**2"
   ]
  },
  {
   "cell_type": "code",
   "execution_count": 28,
   "metadata": {},
   "outputs": [
    {
     "ename": "TypeError",
     "evalue": "unsupported operand type(s) for ** or pow(): 'str' and 'int'",
     "output_type": "error",
     "traceback": [
      "\u001b[1;31m---------------------------------------------------------------------------\u001b[0m",
      "\u001b[1;31mTypeError\u001b[0m                                 Traceback (most recent call last)",
      "\u001b[1;32m<ipython-input-28-b4fb4b688849>\u001b[0m in \u001b[0;36m<module>\u001b[1;34m()\u001b[0m\n\u001b[1;32m----> 1\u001b[1;33m \u001b[0ma_numeral\u001b[0m \u001b[1;33m**\u001b[0m \u001b[1;36m2\u001b[0m\u001b[1;33m\u001b[0m\u001b[0m\n\u001b[0m",
      "\u001b[1;31mTypeError\u001b[0m: unsupported operand type(s) for ** or pow(): 'str' and 'int'"
     ]
    }
   ],
   "source": [
    "a_numeral ** 2"
   ]
  },
  {
   "cell_type": "code",
   "execution_count": 33,
   "metadata": {},
   "outputs": [
    {
     "ename": "AttributeError",
     "evalue": "'int' object has no attribute 'lower'",
     "output_type": "error",
     "traceback": [
      "\u001b[1;31m---------------------------------------------------------------------------\u001b[0m",
      "\u001b[1;31mAttributeError\u001b[0m                            Traceback (most recent call last)",
      "\u001b[1;32m<ipython-input-33-5c6c6a00956c>\u001b[0m in \u001b[0;36m<module>\u001b[1;34m()\u001b[0m\n\u001b[1;32m----> 1\u001b[1;33m \u001b[0ma_number\u001b[0m\u001b[1;33m.\u001b[0m\u001b[0mlower\u001b[0m\u001b[1;33m(\u001b[0m\u001b[1;33m)\u001b[0m\u001b[1;33m\u001b[0m\u001b[0m\n\u001b[0m",
      "\u001b[1;31mAttributeError\u001b[0m: 'int' object has no attribute 'lower'"
     ]
    }
   ],
   "source": [
    "a_number.lower()"
   ]
  },
  {
   "cell_type": "markdown",
   "metadata": {},
   "source": [
    "Booleans: there are only two of these - True and False."
   ]
  },
  {
   "cell_type": "code",
   "execution_count": 39,
   "metadata": {},
   "outputs": [
    {
     "name": "stdout",
     "output_type": "stream",
     "text": [
      "True\n",
      "False\n",
      "True\n",
      "False\n"
     ]
    }
   ],
   "source": [
    "\n",
    "\n",
    "\n",
    "#a_condition = True\n",
    "\n",
    "#print(a_condition)\n",
    "#print(a_condition != False)\n",
    "\n",
    "print(a_number == 4)\n",
    "print(a_number != 4)\n",
    "print(a_number <= 5)\n",
    "print(a_number <= 3)"
   ]
  },
  {
   "cell_type": "markdown",
   "metadata": {},
   "source": [
    "A key part of programming is logic. We can check if a condition is met, and if it is, do one process. If it is not met, we do another..\n",
    "\n",
    "There are eight comparison operations in Python. They all have the same priority (which is higher than that of the Boolean operations). https://docs.python.org/3.6/library/stdtypes.html#comparisons\n",
    "\n"
   ]
  },
  {
   "cell_type": "raw",
   "metadata": {},
   "source": [
    "This table summarizes the comparison operations:\n",
    "\n",
    "Operation\tMeaning\n",
    "<\tstrictly less than\n",
    "<=\tless than or equal\n",
    ">\tstrictly greater than\n",
    ">=\tgreater than or equal\n",
    "==\tequal\n",
    "!=\tnot equal\n",
    "is\tobject identity\n",
    "is not\tnegated object identity"
   ]
  },
  {
   "cell_type": "code",
   "execution_count": 42,
   "metadata": {},
   "outputs": [
    {
     "name": "stdout",
     "output_type": "stream",
     "text": [
      "False\n",
      "True\n",
      "True\n",
      "True\n"
     ]
    }
   ],
   "source": [
    "x = 3\n",
    "y = 6\n",
    "z = 6.0\n",
    "\n",
    "print(x > y)\n",
    "\n",
    "print(x < y)\n",
    "\n",
    "print(y <= z)\n",
    "\n",
    "print(y == z)"
   ]
  },
  {
   "cell_type": "markdown",
   "metadata": {},
   "source": [
    "`if` statements are used as control operators. They evaluate a condition and execute if it's true, or `else` do something else if it's not. Note the syntax.\n",
    "\n"
   ]
  },
  {
   "cell_type": "raw",
   "metadata": {},
   "source": [
    "if condition:\n",
    "    do_this\n",
    "else:\n",
    "    do_that"
   ]
  },
  {
   "cell_type": "code",
   "execution_count": null,
   "metadata": {},
   "outputs": [],
   "source": [
    "if 2 > x:\n",
    "    print(\"Class is over - you've all passed\")\n",
    "else:\n",
    "    print(\"Sorry that was a joke\")"
   ]
  },
  {
   "cell_type": "markdown",
   "metadata": {},
   "source": [
    "There a few more logical operators:\n",
    " - `and`  \n",
    "    this is used to combine several logical statements into one. Both must evaluate as true for the whole condition to be true.\n",
    " \n",
    " - `or`  \n",
    "    this is also used to combine several statements into one, but in this case any of the statements being true will allow the whole condition to be true.\n",
    " \n",
    " - `not`\n",
    "    this negates a logical statement, and means code can be simpler to read. "
   ]
  },
  {
   "cell_type": "raw",
   "metadata": {},
   "source": [
    "#pseudocode for determining eligibility to vote in DIT Student Union Election\n",
    "\n",
    "if is_student_of_DIT:\n",
    "    can_vote = True\n",
    "    \n",
    "#pseudocode for determining eligibility to vote in Irish Parliamentary Election\n",
    "\n",
    "if is_citizen_of_Ireland and is_over_18:\n",
    "    can_vote = True\n",
    "    \n",
    "#pseudocode for determining eligibility to vote in European Parliamentary Election\n",
    "\n",
    "if (is_citizen_of_Ireland or is_citizen_of_France) and is_over_18:\n",
    "    can_vote = True\n",
    "    "
   ]
  },
  {
   "cell_type": "markdown",
   "metadata": {},
   "source": [
    "Let's write a simple program to output the number of days in each month. I've put most of the code in, you fill in the rest."
   ]
  },
  {
   "cell_type": "code",
   "execution_count": 53,
   "metadata": {},
   "outputs": [
    {
     "name": "stdout",
     "output_type": "stream",
     "text": [
      "Please enter the numeric value of the month - eg 4 for April4\n"
     ]
    }
   ],
   "source": [
    "month = input(\"Please enter the numeric value of the month - eg 4 for April\")\n",
    "\n"
   ]
  },
  {
   "cell_type": "code",
   "execution_count": 54,
   "metadata": {},
   "outputs": [],
   "source": [
    "if (month == 2):\n",
    "    print(\"28 or sometimes 29\")\n",
    "elif month == 9:\n",
    "    print(\"30\")\n",
    "elif month == 4:\n",
    "    print(\"30\")\n",
    "elif month == 6:\n",
    "    print(\"30\")\n",
    "elif month == 11:\n",
    "    print(\"30\")\n",
    "#else:\n",
    "#   ___________"
   ]
  },
  {
   "cell_type": "markdown",
   "metadata": {},
   "source": [
    "#### Note:\n",
    "\n",
    "A nice way to visualise your code is via http://www.pythontutor.com/visualize.html#mode=edit\n",
    "\n",
    "Type in your code here and you can see what's happening. Really useful when there's a complex flow or structure going on."
   ]
  },
  {
   "cell_type": "markdown",
   "metadata": {},
   "source": [
    "By now your heads are melted. \n",
    "\n",
    "It's a lot to remember. \n",
    "\n",
    "But...\n",
    "\n",
    "... you don't need to remember all of this!\n",
    "\n",
    "There are lots of good resources out there - here's a link to a page with lots of links\n",
    "http://mfranzen.ca/pages/cor/tej4m1_u4.html\n",
    "\n",
    "Print this cheatsheet out and laminate it - it will be a great help. Also bookmark it. \n",
    "https://perso.limsi.fr/pointal/_media/python:cours:mementopython3-v1.2.2-english.pdf\n",
    "\n",
    "A lot of it won't make sense right now, but it will help you quickly look up something you need."
   ]
  },
  {
   "cell_type": "markdown",
   "metadata": {},
   "source": [
    "## Exercises Week1"
   ]
  },
  {
   "cell_type": "markdown",
   "metadata": {},
   "source": [
    "Let's write a few simple programs.\n",
    "\n",
    " - Geometry\n",
    "     - calculate the volume of a sphere with radius 20mm.  \n",
    "        - Formula for sphere volume is $$ 4/3.\\Pi.r^3$$  \n",
    "        - Output the result with a nice message.\n",
    "     - allow the user to enter a radius for the above program and output the result.\n",
    "     - calculate the volume of a cylinder, allowing the user to input the height and radius, and then print the output with a nice message.\n",
    "     - calculate the volume of a cone, allowing the user to input the height and radius, and then print the output with a nice message.\n",
    " \n",
    " (Do nice outputs for all the below also...)\n",
    " - calculate the fuel efficiency achieved on a journey, allowing the user to input the distance travelled and the amount of fuel used.\n",
    " \n",
    " - Currency Exchange\n",
    "     - create a Fahrenheit to Celsius converter, with user input\n",
    "     - create a Celsius to Fahrenheit converter, with user input\n",
    "     - combine the calculators into one, and allow the user to choose which conversion to do (hint: you'll need to use an if statement).\n",
    " "
   ]
  },
  {
   "cell_type": "markdown",
   "metadata": {},
   "source": [
    "## For Next Week....\n",
    "\n",
    " - Read Intro and Chapter 1 of “Automate the Boring Stuff” (see resources)\n",
    " - Install Python 3.6, Anaconda on your own machine (if you want.. I can help if there are issues)\n",
    " - Set up github account, create a public repo for yourself called “DT9420”\n",
    " - Self-directed learning:\n",
    "     - In a simple text file (notepad or directly in a github document), write three key features of Python that make it one of the most popular languages for programming. What problems has Python faced as a language and ecosystem? What major software/applications are built on Python (name 3 not mentioned already)? What relationship does it have with GIS (not mentioned already)?\n",
    "     - Save this file as ‘week1.txt’ and upload to your github account (or type / copy and paste into a new file on github directly) in your DT9420 repo."
   ]
  },
  {
   "cell_type": "code",
   "execution_count": null,
   "metadata": {},
   "outputs": [],
   "source": []
  }
 ],
 "metadata": {
  "kernelspec": {
   "display_name": "Python 3",
   "language": "python",
   "name": "python3"
  },
  "language_info": {
   "codemirror_mode": {
    "name": "ipython",
    "version": 3
   },
   "file_extension": ".py",
   "mimetype": "text/x-python",
   "name": "python",
   "nbconvert_exporter": "python",
   "pygments_lexer": "ipython3",
   "version": "3.6.5"
  }
 },
 "nbformat": 4,
 "nbformat_minor": 1
}
