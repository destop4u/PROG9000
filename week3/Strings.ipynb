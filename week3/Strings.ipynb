{
 "cells": [
  {
   "cell_type": "markdown",
   "metadata": {},
   "source": [
    "# Strings\n",
    "\n",
    "Today we're going to look a bit more in depth at strings, and how to manipulate these important items.\n",
    "\n",
    "So, what is a string? It is literally a piece of text.\n",
    "\n",
    "`'abcdefghijklmnopqrstuvwxyz'` is the string containing the alphabet.\n",
    "\n",
    "`'12345687890'` is the string containing the numerals.\n",
    "\n",
    "`'!@#&*()&^^^&**'` is a load of gobbeldegook, but it's still a string.\n",
    "\n",
    "\n",
    "What defines a string in Python?\n",
    " - the `\"\"` or `''` surrounding any characters, including whitespace."
   ]
  },
  {
   "cell_type": "code",
   "execution_count": 1,
   "metadata": {},
   "outputs": [],
   "source": [
    "alphabet = 'abcdefghijklmnopqrstuvwxyz'\n",
    "\n",
    "numerals = '12345687890'"
   ]
  },
  {
   "cell_type": "markdown",
   "metadata": {},
   "source": [
    "We can index strings in the same way we index lists or other sequences in Python, with the `[]` notation.\n",
    "\n",
    "So, `alphabet[0]` will yield `'a'`, and `alphabet[::3]` will yield `'adgjmpsvy'`"
   ]
  },
  {
   "cell_type": "code",
   "execution_count": 2,
   "metadata": {},
   "outputs": [
    {
     "data": {
      "text/plain": [
       "'adgjmpsvy'"
      ]
     },
     "execution_count": 2,
     "metadata": {},
     "output_type": "execute_result"
    }
   ],
   "source": [
    "alphabet[::3]"
   ]
  },
  {
   "cell_type": "markdown",
   "metadata": {},
   "source": [
    "### String 'Methods'\n",
    "\n",
    "String methods are functions that can be called on strings. We do this by following the string, or the variable name of the string by `.method()` - for example, both of these do the same thing:\n",
    "\n",
    "`a_string = \"Spam\"`\n",
    "\n",
    "`a_string.lower()`  \n",
    "`\"Spam\".lower()`\n",
    "\n",
    "Here are some more useful methods, all of which can be found at https://docs.python.org/3.6/library/stdtypes.html#string-methods. Try them out for yourself....\n",
    "\n",
    "str.capitalize()  \n",
    "Return a copy of the string with its first character capitalized and the rest lowercased.\n",
    "\n",
    "\n",
    "str.endswith(suffix[, start[, end]])  \n",
    "Return True if the string ends with the specified suffix, otherwise return False. suffix can also be a tuple of suffixes to look for. With optional start, test beginning at that position. With optional end, stop comparing at that position.\n",
    "\n",
    "str.find(sub[, start[, end]])  \n",
    "Return the lowest index in the string where substring sub is found within the slice s[start:end]. Optional arguments start and end are interpreted as in slice notation. Return -1 if sub is not found.\n",
    "\n",
    "str.index(sub[, start[, end]])  \n",
    "Like find(), but raise ValueError when the substring is not found.\n",
    "\n",
    "str.isalpha()  \n",
    "Return true if all characters in the string are alphabetic and there is at least one character, false otherwise. Alphabetic characters are those characters defined in the Unicode character database as “Letter”, i.e., those with general category property being one of “Lm”, “Lt”, “Lu”, “Ll”, or “Lo”. Note that this is different from the “Alphabetic” property defined in the Unicode Standard.\n",
    "\n",
    "str.isdigit()  \n",
    "Return true if all characters in the string are digits and there is at least one character, false otherwise. Digits include decimal characters and digits that need special handling, such as the compatibility superscript digits. This covers digits which cannot be used to form numbers in base 10, like the Kharosthi numbers. Formally, a digit is a character that has the property value Numeric_Type=Digit or Numeric_Type=Decimal.\n",
    "\n",
    "str.join(iterable)  \n",
    "Return a string which is the concatenation of the strings in iterable. A TypeError will be raised if there are any non-string values in iterable, including bytes objects. The separator between elements is the string providing this method.\n",
    "\n",
    "str.lstrip([chars])  \n",
    "Return a copy of the string with leading characters removed. The chars argument is a string specifying the set of characters to be removed. If omitted or None, the chars argument defaults to removing whitespace. The chars argument is not a prefix; rather, all combinations of its values are stripped.\n",
    "\n",
    "str.replace(old, new[, count])  \n",
    "Return a copy of the string with all occurrences of substring old replaced by new. If the optional argument count is given, only the first count occurrences are replaced.\n",
    "\n",
    "str.rfind(sub[, start[, end]])  \n",
    "Return the highest index in the string where substring sub is found, such that sub is contained within s[start:end]. Optional arguments start and end are interpreted as in slice notation. Return -1 on failure.\n",
    "\n",
    "str.rindex(sub[, start[, end]])  \n",
    "Like rfind() but raises ValueError when the substring sub is not found.\n",
    "\n",
    "str.rjust(width[, fillchar])  \n",
    "Return the string right justified in a string of length width. Padding is done using the specified fillchar (default is an ASCII space). The original string is returned if width is less than or equal to len(s).\n",
    "\n",
    "str.rpartition(sep)  \n",
    "Split the string at the last occurrence of sep, and return a 3-tuple containing the part before the separator, the separator itself, and the part after the separator. If the separator is not found, return a 3-tuple containing two empty strings, followed by the string itself.\n",
    "\n",
    "str.rsplit(sep=None, maxsplit=-1)  \n",
    "Return a list of the words in the string, using sep as the delimiter string. If maxsplit is given, at most maxsplit splits are done, the rightmost ones. If sep is not specified or None, any whitespace string is a separator. Except for splitting from the right, rsplit() behaves like split() which is described in detail below.\n",
    "\n",
    "str.rstrip([chars])  \n",
    "Return a copy of the string with trailing characters removed. The chars argument is a string specifying the set of characters to be removed. If omitted or None, the chars argument defaults to removing whitespace. The chars argument is not a suffix; rather, all combinations of its values are stripped.\n",
    "\n",
    "There are more... you can generally find any and all ways to manipulate strings in the built-in methods for strings, but for more sophisticated work, you may need the `string` library, or to use regular expressions - I'll let you discover these for yourselves.....\n"
   ]
  }
 ],
 "metadata": {
  "kernelspec": {
   "display_name": "Python 3",
   "language": "python",
   "name": "python3"
  },
  "language_info": {
   "codemirror_mode": {
    "name": "ipython",
    "version": 3
   },
   "file_extension": ".py",
   "mimetype": "text/x-python",
   "name": "python",
   "nbconvert_exporter": "python",
   "pygments_lexer": "ipython3",
   "version": "3.6.5"
  }
 },
 "nbformat": 4,
 "nbformat_minor": 2
}
