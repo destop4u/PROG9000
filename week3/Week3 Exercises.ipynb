{
 "cells": [
  {
   "cell_type": "markdown",
   "metadata": {},
   "source": [
    "# Week 3 Exercises\n",
    "\n",
    "### Strings\n",
    "\n",
    "1. Write a Python program to count the number of times a character appears in a string. # hint a dict will be really useful here!!!\n",
    "\n",
    "2. Write a Python program to get a string made of the first 2 and the last 2 chars from a given a string. If the string length is less than 2, return instead of the empty string. \n",
    "\n",
    "3. Write a Python program to get a single string from two given strings, separated by a space and swap the first two characters of each string.\n",
    "    Sample String : 'abc', 'xyz' \n",
    "    Expected Result : 'xyc abz'\n",
    "    \n",
    "4. Write a Python function that takes a list of words and returns the length of the longest one.\n",
    "\n",
    "### Dicts\n",
    "\n",
    "1. Write a Python script to print a dictionary where the keys are numbers between 1 and 15 (both included) and the values are square of keys. \n",
    "    Result should be like \n",
    "    {1: 1, 2: 4, 3: 9, 4: 16, 5: 25, 6: 36, .....}\n",
    "    \n",
    "2. Write a Python program to sum all the items in the dictionary you made above. \n",
    "\n",
    "3. Write a Python program to get the maximum and minimum value in a dictionary.\n",
    "\n",
    "    sample_dict = {'x':500, 'y':5874, 'z': 560}\n",
    "    \n",
    "4. Create a program which takes input from the user - they should enter a name, followed by a phone number, an email address and a date of birth. Use a dictionary to store the information. Aloow the user to keep adding names and information to the dictionary until they want to stop. Then ask them do they want to look up a person's information and disply it in a nicely printed output."
   ]
  }
 ],
 "metadata": {
  "kernelspec": {
   "display_name": "Python 3",
   "language": "python",
   "name": "python3"
  },
  "language_info": {
   "codemirror_mode": {
    "name": "ipython",
    "version": 3
   },
   "file_extension": ".py",
   "mimetype": "text/x-python",
   "name": "python",
   "nbconvert_exporter": "python",
   "pygments_lexer": "ipython3",
   "version": "3.6.5"
  }
 },
 "nbformat": 4,
 "nbformat_minor": 2
}
