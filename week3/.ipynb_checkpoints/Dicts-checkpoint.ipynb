{
 "cells": [
  {
   "cell_type": "markdown",
   "metadata": {},
   "source": [
    "# Dicts\n",
    "\n",
    "Another useful data type built into Python is the dictionary. Dictionaries are sometimes found in other languages as “associative memories” or “associative arrays”. Unlike sequences (like the `list`), which are indexed by a range of numbers, dictionaries are indexed by keys, which can be any immutable type (immutable meaning it can't change it's value - the `list` _is_ mutable); strings and numbers can always be keys. Tuples can be used as keys if they contain only strings, numbers, or tuples; if a tuple contains any mutable object either directly or indirectly, it cannot be used as a key. You can’t use lists as keys, since lists can be modified in place using index assignments, slice assignments, or methods like append() and extend().\n",
    "\n",
    "It is best to think of a dictionary as an unordered set of key: value pairs, with the requirement that the keys are unique (within one dictionary). A pair of braces creates an empty dictionary: {}. Placing a comma-separated list of key:value pairs within the braces adds initial key:value pairs to the dictionary; this is also the way dictionaries are written on output.\n",
    "\n",
    "The main operations on a dictionary are storing a value with some key and extracting the value given the key. It is also possible to delete a key:value pair with del. If you store using a key that is already in use, the old value associated with that key is forgotten. It is an error to extract a value using a non-existent key."
   ]
  },
  {
   "cell_type": "code",
   "execution_count": 5,
   "metadata": {},
   "outputs": [
    {
     "name": "stdout",
     "output_type": "stream",
     "text": [
      "The keys are dict_keys([1, 2, 3, 'four'])\n",
      "The values are dict_values(['first value', 'second value', 'third value', 4])\n",
      "The complete dict 'd' is {1: 'first value', 2: 'second value', 3: 'third value', 'four': 4}\n"
     ]
    }
   ],
   "source": [
    "# to set up an empty dict:\n",
    "\n",
    "d = {}\n",
    "\n",
    "# to set up a dict with some values in it from the beginning:\n",
    "\n",
    "d = {1:\"first value\",\n",
    "     2: \"second value\"}\n",
    "\n",
    "# to add a value to the dict:\n",
    "\n",
    "d[3] = \"third value\"\n",
    "\n",
    "# you can use any immutable object - string or key\n",
    "\n",
    "d[\"four\"] = 4\n",
    "\n",
    "# let's look at our keys and values\n",
    "print(\"The keys are\", d.keys())\n",
    "\n",
    "print(\"The values are\", d.values())\n",
    "\n",
    "# print the whole dict\n",
    "print(\"The complete dict 'd' is\",d)"
   ]
  },
  {
   "cell_type": "markdown",
   "metadata": {},
   "source": [
    "Dictionaries are really useful. They can be used as switch statements, containers for storing your data in a way that can be referenced by name, and as ways to quickly access very large collections of data.\n",
    "\n",
    "Note that they store information in an unordered fashion. That is, the order in which the data is stored bears no relation to how it was entered.\n",
    "\n",
    "You can store anything in the `value` part of a dict - it can be a list, a tuple, an integer, a string, a set, an object that you have created or even another dict.\n",
    "\n",
    "The `[]` operator is used to access an item from the `dict`. In comparison to it's use for accessing the items in a `list`, instead of supplying an index (that is a number representing the place in the list where the item you want is), you supply a `key`. This is like entering a search term in a search engine - it uses the value to search for it within the `dict`."
   ]
  },
  {
   "cell_type": "code",
   "execution_count": 23,
   "metadata": {},
   "outputs": [
    {
     "name": "stdout",
     "output_type": "stream",
     "text": [
      "{1: 'first value', 2: 'second value', 3: 'third value', 'four': 4}\n",
      "first value\n",
      "4\n"
     ]
    }
   ],
   "source": [
    "print(d)\n",
    "\n",
    "print(d[1])\n",
    "\n",
    "print(d['four'])\n",
    "\n"
   ]
  },
  {
   "cell_type": "markdown",
   "metadata": {},
   "source": [
    "Creating dictionaries can be done in a few ways:\n",
    "\n",
    "1. You can create an empty dict and add items one by one"
   ]
  },
  {
   "cell_type": "code",
   "execution_count": null,
   "metadata": {},
   "outputs": [],
   "source": [
    "phone_book = dict() # or just {}\n",
    "\n",
    "phone_book['Mary'] = 8764637\n",
    "phone_book['John'] = 8764343\n",
    "phone_book['Bill'] = 8764455\n",
    "phone_book['Joe'] = 8763445\n",
    "phone_book['Frank'] = 8766656\n",
    "phone_book['Linda'] = 8785555\n",
    "phone_book['Claire'] = 8766544\n",
    "\n",
    "print(\"phone_book =\", phone_book, \"\\n\")"
   ]
  },
  {
   "cell_type": "markdown",
   "metadata": {},
   "source": [
    "2. You can `zip` two lists together... "
   ]
  },
  {
   "cell_type": "code",
   "execution_count": 28,
   "metadata": {},
   "outputs": [
    {
     "name": "stdout",
     "output_type": "stream",
     "text": [
      "phone_book = {'Mary': 8764637, 'John': 8764343, 'Bill': 8764455, 'Joe': 8763445, 'Frank': 8766656, 'Linda': 8785555, 'Claire': 8766544} \n",
      "\n",
      "another_phone_book = {'Mary': 8764637, 'John': 8764343, 'Bill': 8764455, 'Joe': 8763445, 'Frank': 8766656, 'Linda': 8785555, 'Claire': 8766544} \n",
      "\n"
     ]
    }
   ],
   "source": [
    "another_phone_book = dict(zip([\"Mary\", \"John\", \"Bill\", \"Joe\", \"Frank\", \"Linda\", \"Claire\"],\n",
    "                        [8764637, 8764343, 8764455, 8763445, 8766656, 8785555, 8766544]))\n",
    "\n",
    "print(\"another_phone_book =\", another_phone_book, \"\\n\")"
   ]
  },
  {
   "cell_type": "markdown",
   "metadata": {},
   "source": [
    "3. Or you can just add all the items in at the start.. (remember Python lists and dicts ignore whitespace between elements  so you can put each item on a new line to improve readability...."
   ]
  },
  {
   "cell_type": "code",
   "execution_count": null,
   "metadata": {},
   "outputs": [],
   "source": [
    "yet_another_phone_book = {'Mary': 8764637, \n",
    "                          'John': 8764343, \n",
    "                          'Bill': 8764455, \n",
    "                          'Joe': 8763445, \n",
    "                          'Frank': 8766656, \n",
    "                          'Linda': 8785555, \n",
    "                          'Claire': 8766544}\n",
    "\n",
    "print(\"yet_another_phone_book =\", yet_another_phone_book, \"\\n\")"
   ]
  },
  {
   "cell_type": "code",
   "execution_count": 32,
   "metadata": {},
   "outputs": [
    {
     "name": "stdout",
     "output_type": "stream",
     "text": [
      "{'Hungary': 'Budapest', 'Ireland': 'Cork'}\n"
     ]
    }
   ],
   "source": [
    "### Adding, deleting and updating items is done in the following way..\n",
    "\n",
    "capitals = {}\n",
    "\n",
    "#1. Adding:\n",
    "\n",
    "capitals['Ireland'] = 'Dublin' # just add a new item with a new name - note there cannot be two keys the same!!!\n",
    "    \n",
    "capitals.update({'Hungary':'Budapest'}) # this also works\n",
    "    \n",
    "#2. Deleting\n",
    "\n",
    "del(capitals['Ireland'])\n",
    "    \n",
    "    \n",
    "#3. Changing the value of an item\n",
    "\n",
    "capitals['Ireland'] = 'Cork' # just reference the key and assign a new value  \n",
    "\n",
    "print(capitals)"
   ]
  },
  {
   "cell_type": "markdown",
   "metadata": {},
   "source": [
    "### Other Useful Dictionary tricks..."
   ]
  },
  {
   "cell_type": "code",
   "execution_count": null,
   "metadata": {},
   "outputs": [],
   "source": [
    "# checking for a key\n",
    "\n",
    "'Ireland' in capitals"
   ]
  },
  {
   "cell_type": "code",
   "execution_count": 34,
   "metadata": {},
   "outputs": [
    {
     "data": {
      "text/plain": [
       "False"
      ]
     },
     "execution_count": 34,
     "metadata": {},
     "output_type": "execute_result"
    }
   ],
   "source": [
    "'Uk' in capitals"
   ]
  },
  {
   "cell_type": "code",
   "execution_count": 39,
   "metadata": {},
   "outputs": [
    {
     "data": {
      "text/plain": [
       "dict_values(['Budapest', 'Cork'])"
      ]
     },
     "execution_count": 39,
     "metadata": {},
     "output_type": "execute_result"
    }
   ],
   "source": [
    "# getting all the values\n",
    "\n",
    "capitals.values()"
   ]
  },
  {
   "cell_type": "code",
   "execution_count": 40,
   "metadata": {},
   "outputs": [
    {
     "data": {
      "text/plain": [
       "dict_keys(['Hungary', 'Ireland'])"
      ]
     },
     "execution_count": 40,
     "metadata": {},
     "output_type": "execute_result"
    }
   ],
   "source": [
    "# getting all the keys\n",
    "\n",
    "capitals.keys()"
   ]
  },
  {
   "cell_type": "code",
   "execution_count": 41,
   "metadata": {},
   "outputs": [
    {
     "data": {
      "text/plain": [
       "dict_items([('Hungary', 'Budapest'), ('Ireland', 'Cork')])"
      ]
     },
     "execution_count": 41,
     "metadata": {},
     "output_type": "execute_result"
    }
   ],
   "source": [
    "# getting keys and values\n",
    "\n",
    "capitals.items() # this return each pair as a tuple.... very like a list - you can index by number..."
   ]
  }
 ],
 "metadata": {
  "kernelspec": {
   "display_name": "Python 3",
   "language": "python",
   "name": "python3"
  },
  "language_info": {
   "codemirror_mode": {
    "name": "ipython",
    "version": 3
   },
   "file_extension": ".py",
   "mimetype": "text/x-python",
   "name": "python",
   "nbconvert_exporter": "python",
   "pygments_lexer": "ipython3",
   "version": "3.6.5"
  }
 },
 "nbformat": 4,
 "nbformat_minor": 2
}
