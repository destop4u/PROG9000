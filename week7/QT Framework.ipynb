{
 "cells": [
  {
   "cell_type": "markdown",
   "metadata": {},
   "source": [
    "# Qt Framework\n",
    "\n",
    "The Qt framework is a cross platform (ie works natively on all operating systems), that enables creation of a native-style GUI on each platform (ie it looks and feels like something naturally occuring in the OS, as opposed to TkInter which looks the same on all platforms).\n",
    "\n",
    "Qt is a C++ implemented GUI so can run on most device types, from phones to control panels on vehicles.\n",
    "\n",
    "https://en.wikipedia.org/wiki/Qt_(software)\n",
    "\n",
    "It can be coded from scratch, like in the example in `example.py`.."
   ]
  },
  {
   "cell_type": "raw",
   "metadata": {},
   "source": [
    "import sys\n",
    "from PyQt5.QtWidgets import QWidget, QPushButton, QApplication\n",
    "\n",
    "class Example(QWidget):\n",
    "    \n",
    "    def __init__(self):\n",
    "        super().__init__()\n",
    "        \n",
    "        self.initUI()\n",
    "        \n",
    "        \n",
    "    def initUI(self):               \n",
    "        \n",
    "        qbtn = QPushButton('Quit', self)\n",
    "        qbtn.clicked.connect(QApplication.instance().quit)\n",
    "        qbtn.resize(qbtn.sizeHint())\n",
    "        qbtn.move(50, 50)       \n",
    "        \n",
    "        self.setGeometry(300, 300, 250, 150)\n",
    "        self.setWindowTitle('Quit button')    \n",
    "        self.show()\n",
    "        \n",
    "        \n",
    "if __name__ == '__main__':\n",
    "    \n",
    "    app = QApplication(sys.argv)\n",
    "    ex = Example()\n",
    "    sys.exit(app.exec_())"
   ]
  },
  {
   "cell_type": "markdown",
   "metadata": {},
   "source": [
    "Note how I ran the code - the iPython interactive shell does not play well with GUIs, because the code interacts with the operating system to generate the GUI (at least that's what I think happens....).\n",
    "So, in Spyder, when you save your script, go to:\n",
    "\n",
    "    Run > Configuration Per File\n",
    "        tick the `Execute in an external system terminal` radio button."
   ]
  },
  {
   "cell_type": "markdown",
   "metadata": {},
   "source": [
    "### Designing a GUI with QT Designer.\n",
    "\n",
    "The good news is that you don't have to code your GUI from the bottom up. You can use a nice little interface to design your GUI to the way you want.\n",
    "\n",
    "But.... before you do this, it's always a good idea to sketch out the GUI to suit the task you need it to do. For example, layout the size of the main widget, the labels you're going to put in, the controls you want, and the process flow you need.\n",
    "\n",
    "So, let's design a GUI that allows the user to buy products from a bike shop. So, we will need:\n",
    "\n",
    " - a label with the shop name on the top of the GUI\n",
    " - a label explaining what the user needs to do\n",
    " - a combo box with a list of items available to buy\n",
    " - a spinner box to select the number of products needed\n",
    " - a results pane showing the item, count and total price of the items selected\n",
    " \n",
    " Note: we will not focus on the background details of how to calculate total price, or how to populate the list of items yet - just the GUI...."
   ]
  },
  {
   "cell_type": "markdown",
   "metadata": {},
   "source": [
    "### Qt Designer\n",
    "\n",
    "Find the Anaconda folder on your machine, look for the Library directory, then the bin directory and open QTDesigner.exe.\n",
    "\n",
    "    Anaconda > Library > bin > QTDesigner.exe\n",
    "    \n",
    "You should have a blank page.\n",
    "\n",
    "On the left is a list of all the available widgets, and on the right, you can see an object browser on the top (this allows you to inspect or access the items you have added, plus the examine and rearrange the hierarchy of the items) and a property browser on the bottom. The property browser allows fine-tuning of all of the available properties for a widget - so for a button you can set whether it is enabled, its size, font, colur etc.\n",
    "\n",
    "It is __very__ important to sketch out or wireframe your GUI before you start work - this will mean that you don't have to redesign everything at an advanced point to incorporate some element that you have forgotten to add from the start.\n",
    "\n",
    "Start with defining in writing what your GUI aims to achieve, then sketch the layout, breaking each task down into tangible pieces. Bear in mind the `user experience`: you need to guide the user through the interface, so try to put yourself in their shoes. You are now able to automate the GUI so you can anticipate user errors - for example, only enabling a button after a textbox has had some text entered into it...\n",
    "\n",
    "I will now run through creating a gui, and show you how you run it from your code. We will use the bike-shop example.\n",
    "\n",
    "Here are some references to look at to explain what is going on here:\n",
    "\n",
    " - how to link your ui file from designer to your python program:\n",
    " https://stackoverflow.com/questions/2398800/linking-a-qtdesigner-ui-file-to-python-pyqt\n",
    "\n",
    " - Designer guide\n",
    " http://doc.qt.io/qt-5/qtdesigner-manual.html\n",
    "\n",
    " - QT Reference for Python\n",
    " http://doc.qt.io/qtforpython/index.html\n",
    " \n",
    " - Qt Reference for Classes\n",
    " Note these all refer to the C++ classes, so some of the methods are slightly unfamiliar as they are in C++, not Python. But there are analogs for all of these in Python, they just require a bit of figuring out....\n",
    " http://doc.qt.io/qt-5/classes.html\n",
    " \n",
    " - Example - QComboBox\n",
    " http://doc.qt.io/qt-5/qcombobox.html"
   ]
  }
 ],
 "metadata": {
  "kernelspec": {
   "display_name": "Python 3",
   "language": "python",
   "name": "python3"
  },
  "language_info": {
   "codemirror_mode": {
    "name": "ipython",
    "version": 3
   },
   "file_extension": ".py",
   "mimetype": "text/x-python",
   "name": "python",
   "nbconvert_exporter": "python",
   "pygments_lexer": "ipython3",
   "version": "3.6.5"
  }
 },
 "nbformat": 4,
 "nbformat_minor": 2
}
