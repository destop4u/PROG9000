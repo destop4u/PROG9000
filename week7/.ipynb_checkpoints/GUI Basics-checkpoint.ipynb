{
 "cells": [
  {
   "cell_type": "markdown",
   "metadata": {},
   "source": [
    "# Python Graphical User Interfaces"
   ]
  },
  {
   "cell_type": "markdown",
   "metadata": {},
   "source": [
    "Python has several GUI options - most notably TkInter which is built into Python straight out of the box. It is useful if you want a quick rough interface for a prototype. But the design is constrained by the fact that there is no way to prototype with TkInter.\n",
    "\n",
    "Bundled with the scientific distribution packaging systyem Anaconda comes PyQT5. This is a Python binding for the cross-platform Qt system, a GUI written in C++ which is used in devices ranging from power-stations to fridges. PyQt5 provides a method to write the GUI in Python, which then gets translated to C++ at run-time."
   ]
  },
  {
   "cell_type": "markdown",
   "metadata": {},
   "source": [
    "### TkInter Example\n",
    "Below is a simple Tk GUI. It opens a window, with a simple label in it."
   ]
  },
  {
   "cell_type": "code",
   "execution_count": 5,
   "metadata": {},
   "outputs": [],
   "source": [
    "from tkinter import *\n",
    "window = Tk()\n",
    "window.title(\"Welcome to PROG9000 app\")\n",
    "lbl = Label(window, text=\"Hello\")\n",
    "lbl.grid(column=0, row=0)\n",
    "window.mainloop()"
   ]
  },
  {
   "cell_type": "markdown",
   "metadata": {},
   "source": [
    "Next we add a button to the window.."
   ]
  },
  {
   "cell_type": "code",
   "execution_count": 3,
   "metadata": {},
   "outputs": [],
   "source": [
    "from tkinter import *\n",
    "window = Tk()\n",
    "window.title(\"Welcome to PROG9000 app\")\n",
    "window.geometry('350x200')\n",
    "lbl = Label(window, text=\"Hello\")\n",
    "lbl.grid(column=0, row=0)\n",
    "btn = Button(window, text=\"Click Me\")\n",
    "btn.grid(column=1, row=0)\n",
    "window.mainloop()"
   ]
  },
  {
   "cell_type": "markdown",
   "metadata": {},
   "source": [
    "One of the handiest things with TkInter is it's message box options - great for quick input or output.."
   ]
  },
  {
   "cell_type": "code",
   "execution_count": 2,
   "metadata": {},
   "outputs": [],
   "source": [
    "res = messagebox.askquestion('Message title','Message content')"
   ]
  },
  {
   "cell_type": "code",
   "execution_count": 5,
   "metadata": {},
   "outputs": [],
   "source": [
    "from tkinter import *\n",
    "window = Tk()\n",
    "window.title(\"Welcome to PROG9000 app\")\n",
    "window.geometry('350x200')\n",
    "spin = Spinbox(window, from_=0, to=100, width=20)\n",
    "sb_lbl = Label(window, text = \"Select a number\")\n",
    "sb_lbl.grid(column=0, row=0)\n",
    "spin.grid(column=1,row=0)\n",
    "window.mainloop()"
   ]
  },
  {
   "cell_type": "markdown",
   "metadata": {},
   "source": [
    "Lots more detail on how to use TkInter can be found at https://docs.python.org/3.6/library/tkinter.html?highlight=tkinter#module-tkinter\n",
    "\n",
    "We won't spend much time on this as there is a nicer way to build sophisticated GUIs."
   ]
  }
 ],
 "metadata": {
  "kernelspec": {
   "display_name": "Python 3",
   "language": "python",
   "name": "python3"
  },
  "language_info": {
   "codemirror_mode": {
    "name": "ipython",
    "version": 3
   },
   "file_extension": ".py",
   "mimetype": "text/x-python",
   "name": "python",
   "nbconvert_exporter": "python",
   "pygments_lexer": "ipython3",
   "version": "3.6.5"
  }
 },
 "nbformat": 4,
 "nbformat_minor": 2
}
