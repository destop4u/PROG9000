{
 "cells": [
  {
   "cell_type": "markdown",
   "metadata": {},
   "source": [
    "# Python Datetimes\n",
    "\n",
    "Date-time data has to be handled in a special way in every single programming language. Python is no different. Fortunately, the built-in library `datetime` has plenty of functionality to enable us to handle this complex topic.\n",
    "\n",
    "The reference data for this module can be found at https://docs.python.org/3.6/library/datetime.html"
   ]
  },
  {
   "cell_type": "code",
   "execution_count": null,
   "metadata": {},
   "outputs": [],
   "source": [
    "import datetime as dt\n",
    "\n",
    "x = dt.datetime.now()\n",
    "print(x)"
   ]
  },
  {
   "cell_type": "markdown",
   "metadata": {},
   "source": [
    "The above code used the system time of your computer to give the current time. Note that the `print` function returns the pretty version of the date:"
   ]
  },
  {
   "cell_type": "code",
   "execution_count": null,
   "metadata": {},
   "outputs": [],
   "source": [
    "x"
   ]
  },
  {
   "cell_type": "markdown",
   "metadata": {},
   "source": [
    "There are many different operations we might need to do with datetimes. One could be to parse a user input as a date-time..."
   ]
  },
  {
   "cell_type": "code",
   "execution_count": null,
   "metadata": {},
   "outputs": [],
   "source": [
    "date_input = input(\"Please enter a date in the form 'dd/mm/yyyy'\")\n",
    "\n",
    "# we will need \n",
    "day_of_week = dt.datetime.strftime(d, \"%A\")\n",
    "\n",
    "d = dt.datetime.strptime(date_input, '%d/%m/%Y')\n",
    "\n",
    "print(\"The date you entered was\", d, \"and it is a\", day_of_week)"
   ]
  },
  {
   "cell_type": "markdown",
   "metadata": {},
   "source": [
    "The parsing from string to date, and from date to string is done using a date-parsing mini-language, outlined in this link:\n",
    "https://docs.python.org/3.6/library/datetime.html#strftime-strptime-behavior\n",
    "\n",
    "See if you can modify the above code to output what week of the year the date supplied is in."
   ]
  },
  {
   "cell_type": "markdown",
   "metadata": {},
   "source": [
    "Another important aspect of manipulating datetimes is being able to do basic date arithmetic. This is obviously complicated due to the irregular nature of months, leapyears, timezones and the 24 hours in a day, 7 days in a week nature of time.\n",
    "\n",
    "In order to deal with this, there are different types of time objects - \n",
    "datetimes https://docs.python.org/3.6/library/datetime.html#datetime.datetime and \n",
    "timedeltas https://docs.python.org/3.6/library/datetime.html#datetime.timedelta.\n",
    "\n",
    "Subtracting one datetime from another will give a timedelta."
   ]
  },
  {
   "cell_type": "code",
   "execution_count": null,
   "metadata": {},
   "outputs": [],
   "source": [
    "print(x)\n",
    "print(d)\n",
    "\n",
    "print(x - d)"
   ]
  },
  {
   "cell_type": "markdown",
   "metadata": {},
   "source": [
    "Likewise, adding a timedelta to a datetime will create a datetime..."
   ]
  },
  {
   "cell_type": "code",
   "execution_count": null,
   "metadata": {},
   "outputs": [],
   "source": [
    "diff = x -d\n",
    "\n",
    "new_date = d + diff\n",
    "print(new_date)"
   ]
  },
  {
   "cell_type": "markdown",
   "metadata": {},
   "source": [
    "What will happen if we add two datetimes?\n",
    "\n",
    "The supported operations table in the timedelta link above will illuminate a lot more on this."
   ]
  },
  {
   "cell_type": "code",
   "execution_count": null,
   "metadata": {},
   "outputs": [],
   "source": [
    "x + d"
   ]
  },
  {
   "cell_type": "markdown",
   "metadata": {},
   "source": [
    "Lots of other useful functions are available from the `datetime` module."
   ]
  }
 ],
 "metadata": {
  "kernelspec": {
   "display_name": "Python 3",
   "language": "python",
   "name": "python3"
  },
  "language_info": {
   "codemirror_mode": {
    "name": "ipython",
    "version": 3
   },
   "file_extension": ".py",
   "mimetype": "text/x-python",
   "name": "python",
   "nbconvert_exporter": "python",
   "pygments_lexer": "ipython3",
   "version": "3.6.5"
  }
 },
 "nbformat": 4,
 "nbformat_minor": 2
}
