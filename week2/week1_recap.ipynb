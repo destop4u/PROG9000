{
 "cells": [
  {
   "cell_type": "markdown",
   "metadata": {
    "slideshow": {
     "slide_type": "slide"
    }
   },
   "source": [
    "# Week 1 Recap!!!\n",
    "\n",
    "\n",
    "We covered a lot. We will drill down into what we did for a while..."
   ]
  },
  {
   "cell_type": "markdown",
   "metadata": {
    "slideshow": {
     "slide_type": "subslide"
    }
   },
   "source": [
    "\"what is this?\"\n",
    "\n",
    "42\n",
    "\n",
    "209199223.10022\n",
    "\n",
    "False\n",
    "\n",
    "answer = 42 + 3\n",
    "\n",
    "print(\"the answer is\", answer)"
   ]
  },
  {
   "cell_type": "markdown",
   "metadata": {
    "slideshow": {
     "slide_type": "subslide"
    }
   },
   "source": [
    "Assignment Statements: \n",
    "\n",
    "_variable_ is on the left hand side, _=_ does the assignment, the right hand side gets evaluated before assignment.\n",
    "\n",
    "a = 42  \n",
    "b = 3  \n",
    "x = a + b  "
   ]
  },
  {
   "cell_type": "markdown",
   "metadata": {
    "slideshow": {
     "slide_type": "subslide"
    }
   },
   "source": [
    "Functions:\n",
    "\n",
    "A _function_ is always of the form function name followed by parentheses: __function_name()__\n",
    "\n",
    "print(x)  \n",
    "input(\"user prompt text here\")  "
   ]
  },
  {
   "cell_type": "markdown",
   "metadata": {
    "slideshow": {
     "slide_type": "subslide"
    }
   },
   "source": [
    "Data types:\n",
    "\n",
    "A _string_ is a piece of text. It is defined by quotation marks, or inverted commas (if you want these symbols to be in the string use the other to surround the entire string eg __\"these are Mick's lecture notes\"__)\n",
    "\n",
    "An _integer_ is a whole number.\n",
    "\n",
    "A _float_ is a decimal number. \n",
    "A _Boolean_ is a logical variable like __True__ or __False__. \n",
    "\n",
    "_But in Python, other things can be truthy too....!_"
   ]
  },
  {
   "cell_type": "code",
   "execution_count": 2,
   "metadata": {
    "slideshow": {
     "slide_type": "subslide"
    }
   },
   "outputs": [
    {
     "data": {
      "text/plain": [
       "True"
      ]
     },
     "execution_count": 2,
     "metadata": {},
     "output_type": "execute_result"
    }
   ],
   "source": [
    "# 0 evaluates as False\n",
    "\n",
    "0 == False"
   ]
  },
  {
   "cell_type": "markdown",
   "metadata": {
    "slideshow": {
     "slide_type": "slide"
    }
   },
   "source": [
    "## Logical Statements\n",
    "\n",
    "    a == b \n",
    "   _is a exactly equal to b?_\n",
    "\n",
    "    a <= b \n",
    "   _is a less than or equal to b?_\n",
    "\n",
    "    a != b \n",
    "   _is a not equal to b?_\n",
    "\n",
    "    a < b \n",
    "   _is a less than b?_\n",
    "\n",
    "(and similar for > operand....)"
   ]
  },
  {
   "cell_type": "markdown",
   "metadata": {
    "slideshow": {
     "slide_type": "subslide"
    }
   },
   "source": [
    "What will the following statements do? What will the result be?\n",
    "\n",
    "    x = 56\n",
    "\n",
    "    x == 56\n",
    "    \n",
    "    x <= 56\n",
    "    \n",
    "    x > 56"
   ]
  },
  {
   "cell_type": "markdown",
   "metadata": {
    "slideshow": {
     "slide_type": "subslide"
    }
   },
   "source": [
    "Combining logical statements is done with the keywords __and__, __or__, __not__\n",
    "\n",
    "    x = 4\n",
    "    y = 7\n",
    "\n",
    "What will the following evaluate as?  \n",
    "\n",
    "    5 > x and 5 < y\n",
    "\n",
    "What will the next statement evaluate as?\n",
    "\n",
    "    5 > x or 9 < y"
   ]
  },
  {
   "cell_type": "markdown",
   "metadata": {
    "slideshow": {
     "slide_type": "slide"
    }
   },
   "source": [
    "## Maths\n",
    "\n",
    "### recap\n",
    "\n",
    "Operations are carried out with the standard maths operators. Additional functions can be accessed via the __math__ module:\n",
    "\n",
    " - Build functions from the inside out\n",
    " - Don't forget operator precedence\n",
    " - Use brackets to execute parts that you want calculated first\n",
    " - Don't be afraid to split a formula accross a few lines if you need to"
   ]
  },
  {
   "cell_type": "code",
   "execution_count": null,
   "metadata": {
    "slideshow": {
     "slide_type": "subslide"
    }
   },
   "outputs": [],
   "source": [
    "# Euclidean distance - we did this last week...\n",
    "\n",
    "# original expression: ((x2 - x1)**2 - (y2 - y1)**2)**0.5\n",
    "\n",
    "horizontal_distance = x2 - x1\n",
    "vertical_distance = y2 - y1\n",
    "\n",
    "difference_of_squares = horizontal_distance**2 - vertical_distance**2\n",
    "\n",
    "euclidean_distance = difference_of_squares**0.5"
   ]
  },
  {
   "cell_type": "markdown",
   "metadata": {
    "slideshow": {
     "slide_type": "slide"
    }
   },
   "source": [
    "## Last Week's Homework:\n",
    "\n",
    "Volume of a sphere\n",
    "\n",
    "Volume of a cone\n",
    "\n",
    "Volume of a cylinder"
   ]
  },
  {
   "cell_type": "code",
   "execution_count": null,
   "metadata": {
    "slideshow": {
     "slide_type": "subslide"
    }
   },
   "outputs": [],
   "source": [
    "# sphere\n",
    "\n",
    "r = 18\n",
    "volume = (4/3)*3.18*(r**3)"
   ]
  },
  {
   "cell_type": "code",
   "execution_count": null,
   "metadata": {
    "slideshow": {
     "slide_type": "subslide"
    }
   },
   "outputs": [],
   "source": [
    "# cone\n",
    "\n",
    "r = 5\n",
    "volume = 3.18*(r**2)*h/3"
   ]
  },
  {
   "cell_type": "code",
   "execution_count": null,
   "metadata": {
    "slideshow": {
     "slide_type": "subslide"
    }
   },
   "outputs": [],
   "source": [
    "# cylinder\n",
    "\n",
    "r = 7\n",
    "volume = 3.18*(r**2)*h"
   ]
  }
 ],
 "metadata": {
  "celltoolbar": "Slideshow",
  "kernelspec": {
   "display_name": "Python 3",
   "language": "python",
   "name": "python3"
  },
  "language_info": {
   "codemirror_mode": {
    "name": "ipython",
    "version": 3
   },
   "file_extension": ".py",
   "mimetype": "text/x-python",
   "name": "python",
   "nbconvert_exporter": "python",
   "pygments_lexer": "ipython3",
   "version": "3.7.0"
  }
 },
 "nbformat": 4,
 "nbformat_minor": 2
}
