{
 "cells": [
  {
   "cell_type": "markdown",
   "metadata": {
    "slideshow": {
     "slide_type": "slide"
    }
   },
   "source": [
    "## Flow Control\n",
    "\n",
    "A key part of programming is being able to control the flow of how the program executes. There are several ways this can be achieved in Python. Which one to use depends on the problem being solved.\n",
    "\n",
    "The main methods are:\n"
   ]
  },
  {
   "cell_type": "markdown",
   "metadata": {
    "slideshow": {
     "slide_type": "slide"
    }
   },
   "source": [
    "## if\n",
    "\n",
    "    if statement:\n",
    "        execute this code\n",
    "    elif other_statement:\n",
    "        execute this code\n",
    "    else:\n",
    "        execute this code\n",
    "        \n",
    " _if_ statements only run the following code when the statement is true. _elif_ provides additional statements, _else_ catches anything that is not specifically looked for in the _if_ or _elif_ statements."
   ]
  },
  {
   "cell_type": "markdown",
   "metadata": {
    "slideshow": {
     "slide_type": "subslide"
    }
   },
   "source": [
    "### Things to remember 1\n",
    "1. colon after each if, else or elif statement\n",
    "2. Indentation (4 spaces!!! most IDEs will insert these if you use tab...)\n",
    "3. No brackets\n",
    "4. Exclusive conditions\n",
    "5. Only executed once"
   ]
  },
  {
   "cell_type": "markdown",
   "metadata": {
    "slideshow": {
     "slide_type": "subslide"
    }
   },
   "source": [
    "### Things to remember 2\n",
    " - Start with an _if_ statement - you don't need to have any other clause if not needed\n",
    " - You can have as many or as few elif statements as you need\n",
    " - You can have at most one else statement, and only after all other ifs and elifs."
   ]
  },
  {
   "cell_type": "markdown",
   "metadata": {
    "slideshow": {
     "slide_type": "slide"
    }
   },
   "source": [
    "## while\n",
    "\n",
    "    while statement:\n",
    "        execute this code\n",
    "        \n",
    " _while_ statements are used to run code until a certain condition is reached."
   ]
  },
  {
   "cell_type": "code",
   "execution_count": 1,
   "metadata": {
    "slideshow": {
     "slide_type": "subslide"
    }
   },
   "outputs": [
    {
     "name": "stdout",
     "output_type": "stream",
     "text": [
      "0\n",
      "1\n",
      "2\n",
      "3\n",
      "4\n"
     ]
    }
   ],
   "source": [
    "# while example\n",
    "\n",
    "i = 0 # the condition must be initialised\n",
    "while i < 5:\n",
    "    print(i)\n",
    "    i = i + 1 # you must change the counter somehow, or it will evaluate for ever!!!!"
   ]
  },
  {
   "cell_type": "markdown",
   "metadata": {
    "slideshow": {
     "slide_type": "slide"
    }
   },
   "source": [
    "### for\n",
    "\n",
    "_for_ statements provide a method to __iterate__ through something, performing a task during each iteration. A lot of Python data-types are __iterable__, allowing the use of a _for_ statement - strings are iterable!!!\n",
    "\n",
    "Other data-types such as lists and dicts are also iterable - we will come to these.\n"
   ]
  },
  {
   "cell_type": "code",
   "execution_count": 15,
   "metadata": {
    "slideshow": {
     "slide_type": "subslide"
    }
   },
   "outputs": [
    {
     "name": "stdout",
     "output_type": "stream",
     "text": [
      "M\n",
      "i\n",
      "c\n",
      "k\n",
      " \n",
      "O\n",
      " \n",
      "D\n",
      "o\n",
      "n\n",
      "n\n",
      "e\n",
      "l\n",
      "l\n"
     ]
    }
   ],
   "source": [
    "my_name = \"Mick O Donnell\"\n",
    "\n",
    "for l in my_name:\n",
    "    print(l)"
   ]
  },
  {
   "cell_type": "code",
   "execution_count": 19,
   "metadata": {
    "slideshow": {
     "slide_type": "subslide"
    }
   },
   "outputs": [
    {
     "name": "stdout",
     "output_type": "stream",
     "text": [
      "i\n",
      "k\n",
      "O\n",
      "D\n",
      "n\n",
      "e\n",
      "l\n"
     ]
    }
   ],
   "source": [
    "# You can use if statements in for clauses....\n",
    "# What's happening here?\n",
    "\n",
    "my_name = \"Mick O Donnell\"\n",
    "\n",
    "for i,l in enumerate(my_name):\n",
    "    if i%2 == 1: \n",
    "        print(l)"
   ]
  },
  {
   "cell_type": "markdown",
   "metadata": {
    "slideshow": {
     "slide_type": "slide"
    }
   },
   "source": [
    "## Importing modules\n",
    "\n",
    "If you recall from last week, Python is downloaded with a _standard library_ of modules in which thousands of useful code chunks are available to do the most common programming operations. As a programmer, you have the flexibility to use these in whatever way you want to achieve the desired result.\n",
    "\n",
    "A list of the modules in the standard library is available at https://docs.python.org/3.7/library/index.html  \n",
    "\n",
    "Everything outside of _built-in functions and classes_ are accesed via an __import__ statement.\n",
    "\n",
    "Your import statements should, by Pythonic convention, be at the start of your script."
   ]
  },
  {
   "cell_type": "code",
   "execution_count": 21,
   "metadata": {},
   "outputs": [
    {
     "name": "stdout",
     "output_type": "stream",
     "text": [
      "What is your name?Mick\n",
      "k\n"
     ]
    }
   ],
   "source": [
    "import random\n",
    "\n",
    "n = input(\"What is your name?\")\n",
    "\n",
    "print(random.choice(n))"
   ]
  },
  {
   "cell_type": "markdown",
   "metadata": {
    "slideshow": {
     "slide_type": "slide"
    }
   },
   "source": [
    "## Practice:\n",
    "\n",
    "A- Write a program that asks the user for their mark in an exam and tells them if they have passed or not (40% is the pass mark).\n",
    " - Set up a variable with the threshold set to 40\n",
    " - Ask user for value\n",
    " - Compare and display appropriate message\n",
    "\n",
    "B-Modify your code to account for a change in the examination rules that specifies a pass mark to be greater than 55%"
   ]
  },
  {
   "cell_type": "code",
   "execution_count": null,
   "metadata": {
    "slideshow": {
     "slide_type": "subslide"
    }
   },
   "outputs": [],
   "source": [
    "# Reorder the lines of code for Part A above...\n",
    "\n",
    "mark = int(mark)\n",
    "\n",
    "threshold = 40\n",
    "    print(\"Sorry, you need to repeat this module\")\n",
    "\n",
    "if mark >= threshold:\n",
    "mark = input(\"Please enter your exam result\")\n",
    "\n",
    "    print(\"Congratulations, you passed!!!!\")\n",
    "else:"
   ]
  },
  {
   "cell_type": "markdown",
   "metadata": {
    "slideshow": {
     "slide_type": "slide"
    }
   },
   "source": [
    "C \n",
    "Write a program that will ask the user their age and return a message that will tell them if they are considered\n",
    "- Under age (<18)\n",
    "- Adult (between 18 and 64)\n",
    "- Retired (over 64)\n",
    "\n",
    "D  \n",
    "Write a program that calculates the shipping cost for a product given the following information:\n",
    "\n",
    "Product Price / Shipping Cost\n",
    "< $50 / $3\n",
    ">= $50 and <= $100 / $5\n",
    "> $100 / $0"
   ]
  },
  {
   "cell_type": "markdown",
   "metadata": {},
   "source": [
    " \n",
    "### Exercises\n",
    "1. The following categories are given to cakes depending on their sugar content:\n",
    " - A sugar>500\n",
    " - B sugar between 300 and 500\n",
    " - C sugar < 300\n",
    "\n",
    "    Write a python program that will categorize a cake when its sugar content is inserted.\n",
    "\n",
    "2. Capture a date as three integer numbers: year, month, day. Say if it is a correct one (month between 1 and 12, day 1-28, 1-30 or 1-31 according to the month, ignore leap years)\n",
    "\n",
    "3. Capture two dates as year, month, day. Say which of them precedes the other.\n",
    "\n",
    "4. Capture a year as integer number. Say if it is a leap year. A year will be a leap year if it is divisible by 4 but not by 100. If a year is divisible by 4 and by 100, it is not a leap year unless it is also divisible by 400.\n",
    "\n",
    "Compare your result with:\n",
    "    import calendar\n",
    "    print calendar.isleap(1999)\n",
    "\n",
    "5. Find the roots of a quadratic equation given the coefficients a, b and c:\n",
    "    Quadratic formula \n",
    "    \n",
    "   $$x=\\frac{-b\\pm \\sqrt{b^2-4ac}}{2a}.$$\n",
    "    \n",
    "    Discriminant= $$b^2-4ac$$\n",
    "\n",
    "    Three possibilities\n",
    "    1. discriminant =0 one real root (-b/2a)\n",
    "    2. discriminant >0 two real roots (-b+discriminant)/2a and (-b-discriminant)/2a\n",
    "    3. discriminant <0 no real roots\n",
    "\n",
    "6. Update your quadratic equation code to generate the values of a , b and c randomly.\n",
    "    Check for 0 values (a cannot be 0)\n",
    "    a, b and c are integers between 0 and 15\n",
    "\n",
    "7. Write a program that generates a pseudorandom number between 1 and 7 and tell the user what day of the week it corresponds to.\n",
    "8. Capture, as a string, a month of the year. Display a message that tells the user whether the month is in Spring, Summer, Autumn or Winter.\n",
    "EXTRA\n",
    "9. Capture three integer numbers and print out the largest of the three numbers.\n",
    "10. Capture three integer numbers and print out the appropriate message: “the tree numbers are equal”, “two numbers are equal and the other different”, “the three numbers are different” .\n",
    "11. Capture three integer numbers and say which of the numbers has the smallest value ( the first, the second, the first and the third, the second and the third,…)\n",
    "12. Capture three different integer numbers and print out again the three numbers but in increasing order."
   ]
  },
  {
   "cell_type": "code",
   "execution_count": null,
   "metadata": {},
   "outputs": [],
   "source": []
  }
 ],
 "metadata": {
  "celltoolbar": "Slideshow",
  "kernelspec": {
   "display_name": "Python 3",
   "language": "python",
   "name": "python3"
  },
  "language_info": {
   "codemirror_mode": {
    "name": "ipython",
    "version": 3
   },
   "file_extension": ".py",
   "mimetype": "text/x-python",
   "name": "python",
   "nbconvert_exporter": "python",
   "pygments_lexer": "ipython3",
   "version": "3.7.0"
  }
 },
 "nbformat": 4,
 "nbformat_minor": 2
}
