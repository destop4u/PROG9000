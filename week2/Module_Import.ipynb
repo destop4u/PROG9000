{
 "cells": [
  {
   "cell_type": "markdown",
   "metadata": {},
   "source": [
    "# Importing Modules\n",
    "\n",
    "Python comes 'batteries included'. So, most of what you need to do can be accessed without having to pull some software from the web - it comes in the 'standard library' which is available when you download Python.\n",
    "\n",
    "Some functionality is 'built-in' - this means that it is available without importing a module. Examples of this are the standard data collections such as lists, dicts tuples and sets.\n",
    "\n",
    "Other functionality is available by importing a module. We will look at different ways to do this now. First a few conventions:\n",
    "\n",
    " - _import_ statements should come first in your script\n",
    " - if importing a large number of modules, block them into logical groups - ie modules for string manipulation in one block, a blank line, and then modules for numeric manipulation."
   ]
  },
  {
   "cell_type": "code",
   "execution_count": null,
   "metadata": {},
   "outputs": [],
   "source": [
    "# simple import\n",
    "import collections\n",
    "\n",
    "a_double_ended_queue = collections.deque"
   ]
  },
  {
   "cell_type": "code",
   "execution_count": null,
   "metadata": {},
   "outputs": [],
   "source": [
    "# alias import\n",
    "import collections as cols\n",
    "\n",
    "a_double_ended_queue = cols.deque"
   ]
  },
  {
   "cell_type": "code",
   "execution_count": null,
   "metadata": {},
   "outputs": [],
   "source": [
    "# specific item import - in this case the 'class' deque\n",
    "# use it if we want only one or a few items\n",
    "from collections import deque, OrderedDict # import two classes\n",
    "\n",
    "a_double_ended_queue = deque # no need to specify the module name\n",
    "an_ordered_dict = OrderedDict"
   ]
  },
  {
   "cell_type": "code",
   "execution_count": null,
   "metadata": {},
   "outputs": [],
   "source": [
    "# import all items in a module - not advised as may cause conflicts if two modules have\n",
    "# classes/functions with the same name\n",
    "\n",
    "from collections import *"
   ]
  }
 ],
 "metadata": {
  "kernelspec": {
   "display_name": "Python 3",
   "language": "python",
   "name": "python3"
  },
  "language_info": {
   "codemirror_mode": {
    "name": "ipython",
    "version": 3
   },
   "file_extension": ".py",
   "mimetype": "text/x-python",
   "name": "python",
   "nbconvert_exporter": "python",
   "pygments_lexer": "ipython3",
   "version": "3.6.5"
  }
 },
 "nbformat": 4,
 "nbformat_minor": 2
}
