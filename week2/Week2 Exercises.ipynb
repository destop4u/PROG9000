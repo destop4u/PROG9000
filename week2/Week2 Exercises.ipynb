{
 "cells": [
  {
   "cell_type": "markdown",
   "metadata": {},
   "source": [
    "# Week 2 Exercises"
   ]
  },
  {
   "cell_type": "markdown",
   "metadata": {},
   "source": [
    "## Theory\n",
    "\n",
    "1. Look at the documentation for lists at https://docs.python.org/3.6/tutorial/ and/or https://docs.python.org/3.6/library/stdtypes.html#sequence-types-list-tuple-range\n",
    "\n",
    "    Pick out three _methods_ that are implemented by the list object, and describe what they do. Write some pseudocode (code that doesn't have to run but makes logical sense) that shows how each method might be used. \n",
    "\n",
    "    \n",
    "2. How would you implement a counter in a `for` loop? That is, as you iterate through the items in a sequence, how do you count how many times you run the loop? Show this with pseudocode.\n",
    "\n",
    "    How would you just output every third item?\n",
    "    \n",
    "\n",
    "3. What module would you import for;\n",
    " - working with directories and paths\n",
    " - working with dates and times\n",
    " - working with common data interchange formats (google might help...)  \n",
    "     _hint_ https://docs.python.org/3.6/library/index.html\n",
    "     \n",
    "     Write the import statement for each of the above cases.\n",
    "     \n",
    "4. Have a look at `tuples`. How are these different from `lists`. Why would you use one over the other?"
   ]
  },
  {
   "cell_type": "markdown",
   "metadata": {},
   "source": [
    "## Code\n",
    "\n",
    "### Basic\n",
    "\n",
    "1. Take a year number as input from the user, and output whether the year is a leap-year or not.\n",
    "\n",
    "    https://en.wikipedia.org/wiki/Leap_year#Algorithm \n",
    "    \n",
    "    Extend the program to output how long it has been since the last leap year if it is not a leap year.\n",
    "    \n",
    "    Hint below if needed\n",
    "\n",
    "\n",
    "2. Write a program that takes a month numeral from the user and returns the text month and the season that the month is in.\n",
    "\n",
    "    Extend the above program to also return the number of days in the month entered. Hint below if needed.\n",
    "\n",
    "\n",
    "3.  Write a program that makes a shopping list, with the user able to enter an item and the number of items required. Then print the list, and the total number of items needed. Hint below if needed.\n",
    "\n",
    "\n",
    "4. Write a function which finds the largest of a list of numbers. Do not use a method, compare each element to the current maximum. Use a loop.\n",
    "\n",
    "\n",
    "5. Create a program that gives the user a menu with the following options:\n",
    "    - A Add an element to a list\n",
    "    - R Remove an element from the list\n",
    "    - P Replace an element with another\n",
    "    - S sort the list\n",
    "    Original list: [‘Madrid’, ‘Dublin’, ’New York’, ’Paris’, ’London’]\n",
    "\n",
    "_hint 1: you will need to use the modulus operator_  \n",
    "_hint 2: create a second list with the number of days in each 'slot'_  \n",
    "_hint 3: use a for loop to take each item/count input and add each to a seperate list_\n",
    "\n"
   ]
  },
  {
   "cell_type": "markdown",
   "metadata": {},
   "source": [
    "### Challening\n",
    "\n",
    "1. Look at list comprehensions and"
   ]
  },
  {
   "cell_type": "code",
   "execution_count": 6,
   "metadata": {},
   "outputs": [],
   "source": [
    "import string\n",
    "import random\n",
    "\n",
    "some_letters = random.choices(string.ascii_lowercase, k = 40)\n"
   ]
  }
 ],
 "metadata": {
  "kernelspec": {
   "display_name": "Python 3",
   "language": "python",
   "name": "python3"
  },
  "language_info": {
   "codemirror_mode": {
    "name": "ipython",
    "version": 3
   },
   "file_extension": ".py",
   "mimetype": "text/x-python",
   "name": "python",
   "nbconvert_exporter": "python",
   "pygments_lexer": "ipython3",
   "version": "3.6.5"
  }
 },
 "nbformat": 4,
 "nbformat_minor": 2
}
