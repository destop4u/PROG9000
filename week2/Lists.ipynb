{
 "cells": [
  {
   "cell_type": "markdown",
   "metadata": {},
   "source": [
    "# Lists\n",
    "\n",
    "Lists are one of the collection data structures that Python has. They are used to store an ordered sequence of items, that need not be of the same type."
   ]
  },
  {
   "cell_type": "markdown",
   "metadata": {},
   "source": [
    "We create a list by the following methods:\n",
    "\n",
    " - `a_list = []` this creates a blank list and assigns it to the variable 'a_list' \n",
    " - `b_list = list()` this creates a blank list and assigns it to the variable 'b_list'\n",
    " - `c_list = [1,2,3]` 'c_list' now contains the integers 1, 2, and 3\n",
    " \n",
    " We can also coerce (force convert) another iterable to be a list by doing this: `d_list = list(some_iterable)`. This might be if we want to turn a set into a list for some reason."
   ]
  },
  {
   "cell_type": "code",
   "execution_count": 1,
   "metadata": {},
   "outputs": [],
   "source": [
    "name_list = [\"Mary\", \"John\", \"Hope\", \"Michael\", \"Tobi\", \"Alice\"]"
   ]
  },
  {
   "cell_type": "markdown",
   "metadata": {},
   "source": [
    "In `name_list`, there are six strings. We access the items within the list with the `[]` notation. For instance;\n",
    "\n",
    "    name_list[2] will return \"Hope\".\n",
    "    \n",
    "Remember that Python indexing starts at 0!!!!\n",
    "\n",
    "We can select subsets with `[start:finish]` - so `name_list[:2]` will return __a list__ with the first two items.\n",
    "\n",
    "A third argument to the list index will specify a 'step' - `name_list[:3:2]` will output every second item from the start to the third item.\n",
    "\n",
    "Try playing with these below...."
   ]
  },
  {
   "cell_type": "code",
   "execution_count": 4,
   "metadata": {},
   "outputs": [
    {
     "name": "stdout",
     "output_type": "stream",
     "text": [
      "John\n",
      "['Mary', 'John']\n",
      "['Mary', 'Hope']\n"
     ]
    }
   ],
   "source": [
    "print(name_list[1])\n",
    "\n",
    "print(name_list[:2])\n",
    "\n",
    "print(name_list[:3:2])"
   ]
  },
  {
   "cell_type": "markdown",
   "metadata": {},
   "source": [
    "It is also possible to index from the end, by using a negative number.\n",
    "\n",
    "So, `name_list[-1]` will return the last item.\n",
    "\n",
    "Similarly, using a negative value for the step will reverse the order of the step; `name_list[::-1]` will give all items in reverse order. "
   ]
  },
  {
   "cell_type": "code",
   "execution_count": 11,
   "metadata": {},
   "outputs": [
    {
     "name": "stdout",
     "output_type": "stream",
     "text": [
      "['Alice', 'Tobi', 'Michael', 'Hope', 'John', 'Mary']\n",
      "['Alice', 'Michael', 'John']\n",
      "Alice\n",
      "['Michael', 'Tobi']\n"
     ]
    }
   ],
   "source": [
    "print(name_list[::-1])\n",
    "\n",
    "print(name_list[::-2])\n",
    "\n",
    "print(name_list[-1])\n",
    "\n",
    "print(name_list[-3:-1])"
   ]
  },
  {
   "cell_type": "markdown",
   "metadata": {},
   "source": [
    "There are also a lot of really useful 'methods' available for use with lists. A `method` is a `function` that is specific to a particular `object` - the object being a list in this case. Have a look at the cheat sheet, or see https://docs.python.org/3.6/tutorial/datastructures.html#more-on-lists for a lot more. Here's a few highlights:\n",
    "\n",
    "list.append(x) _Add an item to the end of the list\n",
    "\n",
    "list.extend(iterable) _Extend the list by appending all the items from the iterable\n",
    "\n",
    "list.insert(i, x) _Insert an item at a given position.\n",
    "\n",
    "list.remove(x) _Remove the first item from the list whose value is x. It is an error if there is no such item.\n",
    "\n",
    "list.pop([i]) _Remove the item at the given position in the list, and return it. If no index is specified, a.pop() removes and returns the last item in the list. (The square brackets around the i in the method signature denote that the parameter is optional, not that you should type square brackets at that position. You will see this notation frequently in the Python Library Reference.)\n",
    "\n",
    "list.clear() _Remove all items from the list. Equivalent to del a[:].\n",
    "\n",
    "list.index(x[, start[, end]]) _Return zero-based index in the list of the first item whose value is x. Raises a ValueError if there is no such item. The optional arguments start and end are interpreted as in the slice notation and are used to limit the search to a particular subsequence of the list. The returned index is computed relative to the beginning of the full sequence rather than the start argument.\n",
    "\n",
    "list.count(x) _Return the number of times x appears in the list.\n",
    "\n",
    "list.sort(key=None, reverse=False) _Sort the items of the list in place (the arguments can be used for sort customization, see sorted() for their explanation).\n",
    "\n",
    "list.reverse() _Reverse the elements of the list in place.\n",
    "\n",
    "Below is an example of how these list methods work. The `>>>` just represent the Python prompt - ie you would type a statement here, then press enter and it gets executed. If you search for Python in the Start menu, and click \"Python 3.x\", it will open the Python prompt for you."
   ]
  },
  {
   "cell_type": "raw",
   "metadata": {},
   "source": [
    ">>> fruits = ['orange', 'apple', 'pear', 'banana', 'kiwi', 'apple', 'banana']\n",
    ">>> fruits.count('apple')\n",
    "2\n",
    ">>> fruits.count('tangerine')\n",
    "0\n",
    ">>> fruits.index('banana')\n",
    "3\n",
    ">>> fruits.index('banana', 4)  # Find next banana starting a position 4\n",
    "6\n",
    ">>> fruits.reverse()\n",
    ">>> fruits\n",
    "['banana', 'apple', 'kiwi', 'banana', 'pear', 'apple', 'orange']\n",
    ">>> fruits.append('grape')\n",
    ">>> fruits\n",
    "['banana', 'apple', 'kiwi', 'banana', 'pear', 'apple', 'orange', 'grape']\n",
    ">>> fruits.sort()\n",
    ">>> fruits\n",
    "['apple', 'apple', 'banana', 'banana', 'grape', 'kiwi', 'orange', 'pear']\n",
    ">>> fruits.pop()\n",
    "'pear'"
   ]
  },
  {
   "cell_type": "markdown",
   "metadata": {},
   "source": [
    "You can quickly cheick if something is in a list by doing this:\n",
    "\n",
    "`x in list`"
   ]
  },
  {
   "cell_type": "code",
   "execution_count": 12,
   "metadata": {},
   "outputs": [
    {
     "data": {
      "text/plain": [
       "True"
      ]
     },
     "execution_count": 12,
     "metadata": {},
     "output_type": "execute_result"
    }
   ],
   "source": [
    "\"Mary\" in name_list"
   ]
  },
  {
   "cell_type": "code",
   "execution_count": 13,
   "metadata": {},
   "outputs": [
    {
     "data": {
      "text/plain": [
       "False"
      ]
     },
     "execution_count": 13,
     "metadata": {},
     "output_type": "execute_result"
    }
   ],
   "source": [
    "\"Donald\" in name_list"
   ]
  }
 ],
 "metadata": {
  "kernelspec": {
   "display_name": "Python 3",
   "language": "python",
   "name": "python3"
  },
  "language_info": {
   "codemirror_mode": {
    "name": "ipython",
    "version": 3
   },
   "file_extension": ".py",
   "mimetype": "text/x-python",
   "name": "python",
   "nbconvert_exporter": "python",
   "pygments_lexer": "ipython3",
   "version": "3.6.5"
  }
 },
 "nbformat": 4,
 "nbformat_minor": 2
}
