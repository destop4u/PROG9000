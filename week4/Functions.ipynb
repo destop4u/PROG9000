{
 "cells": [
  {
   "cell_type": "markdown",
   "metadata": {
    "slideshow": {
     "slide_type": "slide"
    }
   },
   "source": [
    "# Functions\n",
    "\n",
    "So as you've probably found, computer code can get pretty complicated....\n",
    "\n",
    "One way to help structure your code is to use what's known as functions. A function is a defined unit of code that does a particular task, and it can be called repeatedly. It's the Pythonic equivalent of copying and pasting text in order to save a lot of typing.\n",
    "\n",
    "So a function usually takes some input, does something with the input and returns an output or performs a task.\n",
    "To date, you've used functinos a bit without knowing, as all the methods like `list.sort()`, `string.capitalise()` are all methods, which are functions by another name.\n"
   ]
  },
  {
   "cell_type": "markdown",
   "metadata": {
    "slideshow": {
     "slide_type": "subslide"
    }
   },
   "source": [
    "## When to use functions...\n",
    "\n",
    "If there's a programming task that you need to execute repeatedly, like a certain calculation, or a geoprocessing operation you might write a function. This achieves several objectives:\n",
    "\n",
    " - it can help to declutter code - a function with 10 lines of code, which is called 10 times during a script saves 90 linrs of code...\n",
    " \n",
    " - they help to avoid syntax mistakes - copying and pasting, even if done carefully can cause errors\n",
    " \n",
    " - debugging - if the codes not working you only have to examine and change one function's worth of code, not ten repeated similar blocks of code....\n",
    " \n",
    " - you can reuse functions that you've written in previous code by importing your own functions into your new script."
   ]
  },
  {
   "cell_type": "code",
   "execution_count": 8,
   "metadata": {
    "slideshow": {
     "slide_type": "subslide"
    }
   },
   "outputs": [
    {
     "name": "stdout",
     "output_type": "stream",
     "text": [
      "teertS notloB\n"
     ]
    }
   ],
   "source": [
    "# a simple function\n",
    "\n",
    "def reverse_word(the_word):         # define the function, give the function a name and set up the input parameters\n",
    "    output_word = the_word[::-1]    # this is the body of the function, where the work gets done\n",
    "    return output_word              # this is the return statement where the work gets done\n",
    "\n",
    "\n",
    "\n",
    "\n",
    "p = reverse_word(\"Bolton Street\")   # call the function and assign the result to 'p'\n",
    "\n",
    "print(p)                            # print p\n",
    "    "
   ]
  },
  {
   "cell_type": "markdown",
   "metadata": {
    "slideshow": {
     "slide_type": "slide"
    }
   },
   "source": [
    "Have a go at writing some code, which takes a sentence as input from a user, passes it to a function which turns the sentence into a title - that is it capitalises every first letter of every word - and prints the new titled sentence. \n",
    "\n",
    "##### hint - _str.title()_"
   ]
  },
  {
   "cell_type": "markdown",
   "metadata": {
    "slideshow": {
     "slide_type": "slide"
    }
   },
   "source": [
    "You can set up your function to use default arguments to the parameters which get used if no argument is supplied when the function is called.."
   ]
  },
  {
   "cell_type": "code",
   "execution_count": 9,
   "metadata": {
    "slideshow": {
     "slide_type": "subslide"
    }
   },
   "outputs": [
    {
     "name": "stdout",
     "output_type": "stream",
     "text": [
      "yrareppiT\n"
     ]
    }
   ],
   "source": [
    "def reverse_word_with_default(the_word = \"Tipperary\"):     # nothing changed from last time except a default is added..    \n",
    "    output_word = the_word[::-1]    \n",
    "    return output_word              \n",
    "\n",
    "\n",
    "p = reverse_word_with_default()     # no argument supplied...   \n",
    "\n",
    "print(p)   "
   ]
  },
  {
   "cell_type": "markdown",
   "metadata": {
    "slideshow": {
     "slide_type": "slide"
    }
   },
   "source": [
    "You can specify that you want to supply a variable number of arguments like this..."
   ]
  },
  {
   "cell_type": "code",
   "execution_count": 13,
   "metadata": {
    "slideshow": {
     "slide_type": "subslide"
    }
   },
   "outputs": [
    {
     "name": "stdout",
     "output_type": "stream",
     "text": [
      "['iiawaH', 'eessenneT', 'aniloraC htuoS', 'notgnihsaW']\n"
     ]
    }
   ],
   "source": [
    "def reverse_word_with_variable_args(*words):     # the star after the parameter indicates that there are one or many args        \n",
    "    output_list = []\n",
    "    for word in words:\n",
    "        reversed_word = word[::-1]\n",
    "        output_list.append(reversed_word)\n",
    "    return output_list\n",
    "\n",
    "\n",
    "    # no argument supplied...   \n",
    "\n",
    "result = reverse_word_with_variable_args(\"Hawaii\", \"Tennessee\", \"South Carolina\", \"Washington\")    \n",
    "    \n",
    "print(result)  "
   ]
  },
  {
   "cell_type": "code",
   "execution_count": 7,
   "metadata": {},
   "outputs": [
    {
     "name": "stdout",
     "output_type": "stream",
     "text": [
      "Roots are: -2.0 and -4.0\n"
     ]
    }
   ],
   "source": [
    "from math import sqrt\n",
    "\n",
    "def quadratic_roots(a, b, c):\n",
    "    x1 = (-b + sqrt(b**2 - 4*a*c))/2*a\n",
    "    x2 = (-b - sqrt(b**2 - 4*a*c))/2*a\n",
    "    return (x1, x2)\n",
    "\n",
    "x1 = quadratic_roots(2,3,1)[0]\n",
    "\n",
    "x2 = quadratic_roots(2,3,1)[1]\n",
    "\n",
    "print(\"Roots are:\", x1, \"and\", x2)"
   ]
  }
 ],
 "metadata": {
  "celltoolbar": "Slideshow",
  "kernelspec": {
   "display_name": "Python 3",
   "language": "python",
   "name": "python3"
  },
  "language_info": {
   "codemirror_mode": {
    "name": "ipython",
    "version": 3
   },
   "file_extension": ".py",
   "mimetype": "text/x-python",
   "name": "python",
   "nbconvert_exporter": "python",
   "pygments_lexer": "ipython3",
   "version": "3.6.5"
  }
 },
 "nbformat": 4,
 "nbformat_minor": 2
}
