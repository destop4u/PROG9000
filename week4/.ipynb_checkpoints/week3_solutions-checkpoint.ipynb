{
 "cells": [
  {
   "cell_type": "code",
   "execution_count": 3,
   "metadata": {},
   "outputs": [
    {
     "name": "stdout",
     "output_type": "stream",
     "text": [
      "{'o': 3, 'l': 2, 'd': 4, ' ': 9, 'm': 2, 'c': 1, 'n': 1, 'a': 4, 'h': 1, 'f': 1, 'r': 1, ',': 1, 'e': 2, 'i': 2}\n"
     ]
    }
   ],
   "source": [
    "# Write a Python program to count the number of times \n",
    "#a character appears in a string. # hint a dict will be really useful here!!!\n",
    "\n",
    "the_string = \"Old McDonald had a farm, e i e i o\"\n",
    "\n",
    "letter_dict = {}\n",
    "\n",
    "for l in the_string:\n",
    "    l = l.lower()\n",
    "    if l in letter_dict:\n",
    "        letter_dict[l] += 1\n",
    "    else:\n",
    "        letter_dict[l] = 1\n",
    "\n",
    "print(letter_dict)"
   ]
  },
  {
   "cell_type": "code",
   "execution_count": 4,
   "metadata": {},
   "outputs": [
    {
     "name": "stdout",
     "output_type": "stream",
     "text": [
      "Clet\n"
     ]
    }
   ],
   "source": [
    "# Write a Python program to get a string made of the first 2 and the last 2 chars from a given a string. \n",
    "#If the string length is less than 2, return instead of the empty string.\n",
    "\n",
    "a_string = \"Clanbrassil Street\"\n",
    "\n",
    "new_string = a_string[:2] + a_string[-2:]\n",
    "\n",
    "print(new_string)"
   ]
  },
  {
   "cell_type": "code",
   "execution_count": 8,
   "metadata": {},
   "outputs": [
    {
     "name": "stdout",
     "output_type": "stream",
     "text": [
      "egam spgs\n"
     ]
    }
   ],
   "source": [
    "# Write a Python program to get a single string from two given strings, separated by a space and swap the \n",
    "# first two characters of each string. Sample String : 'abc', 'xyz' Expected Result : 'xyc abz'\n",
    "\n",
    "string_a = \"spam eggs\"\n",
    "\n",
    "x = string_a.split(' ')\n",
    "\n",
    "modified_string =  x[1][:2] + x[0][2:] + ' ' + x[0][:2] + x[1][2:] \n",
    "\n",
    "print(modified_string)"
   ]
  },
  {
   "cell_type": "code",
   "execution_count": 11,
   "metadata": {},
   "outputs": [
    {
     "name": "stdout",
     "output_type": "stream",
     "text": [
      "The longest word is ' you're ' and it is this many letters long: 6\n"
     ]
    }
   ],
   "source": [
    "# Write a Python function that takes a list of words and returns the length of the longest one.\n",
    "\n",
    "words = [\"hey\", \"now\", \"you're\", \"a\", \"rock\", \"star\"]\n",
    "\n",
    "word_length = 0\n",
    "\n",
    "for w in words:\n",
    "    if len(w) > word_length:\n",
    "        word_length = len(w)\n",
    "        the_longest_word = w\n",
    "\n",
    "print(\"The longest word is '\", the_longest_word, \"' and it is this many letters long:\", word_length)"
   ]
  },
  {
   "cell_type": "code",
   "execution_count": 13,
   "metadata": {},
   "outputs": [
    {
     "name": "stdout",
     "output_type": "stream",
     "text": [
      "{1: 1, 2: 4, 3: 9, 4: 16, 5: 25, 6: 36, 7: 49, 8: 64, 9: 81, 10: 100, 11: 121, 12: 144, 13: 169, 14: 196, 15: 225}\n"
     ]
    }
   ],
   "source": [
    "# Write a Python script to print a dictionary where the keys are numbers between 1 and 15 (both included) and the values are square of keys. \n",
    "# Result should be like {1: 1, 2: 4, 3: 9, 4: 16, 5: 25, 6: 36, .....}\n",
    "\n",
    "num_dict = {}\n",
    "\n",
    "for i in range(1,16):\n",
    "    num_dict[i] = i**2\n",
    "    \n",
    "print(num_dict)"
   ]
  },
  {
   "cell_type": "code",
   "execution_count": 14,
   "metadata": {},
   "outputs": [
    {
     "name": "stdout",
     "output_type": "stream",
     "text": [
      "Sum of keys =  120 \n",
      "Sum of values =  1240 \n",
      "Sum of all keys and all values =  1360\n"
     ]
    }
   ],
   "source": [
    "# Sum all above items\n",
    "\n",
    "key_sum = 0\n",
    "value_sum = 0\n",
    "\n",
    "for k, v in num_dict.items():\n",
    "    key_sum += k\n",
    "    value_sum += v\n",
    "    \n",
    "print(\"Sum of keys = \", key_sum,\n",
    "      \"\\nSum of values = \", value_sum,\n",
    "      \"\\nSum of all keys and all values = \", key_sum + value_sum)"
   ]
  },
  {
   "cell_type": "code",
   "execution_count": 15,
   "metadata": {},
   "outputs": [
    {
     "name": "stdout",
     "output_type": "stream",
     "text": [
      "Max value =  5874\n",
      "Min value =  500\n"
     ]
    }
   ],
   "source": [
    "#Write a Python program to get the maximum and minimum value in a dictionary.\n",
    "\n",
    "#sample_dict = {'x':500, 'y':5874, 'z': 560}\n",
    "\n",
    "sample_dict = {'x':500, 'y':5874, 'z': 560}\n",
    "\n",
    "print(\"Max value = \", max(sample_dict.values()))\n",
    "print(\"Min value = \", min(sample_dict.values()))"
   ]
  },
  {
   "cell_type": "code",
   "execution_count": 17,
   "metadata": {},
   "outputs": [
    {
     "name": "stdout",
     "output_type": "stream",
     "text": [
      "Welcome to data logger - would you like to enter a new person? Y or NY\n",
      "Please enter the nameMick\n",
      "Please enter the emailmsjsjsj\n",
      "Please enter a date of birthdkdkdk\n",
      "Welcome to data logger - would you like to enter a new person? Y or NY\n",
      "Please enter the namesdkdkdk\n",
      "Please enter the emaildkdkkd\n",
      "Please enter a date of birthdkdkdk\n",
      "Welcome to data logger - would you like to enter a new person? Y or NN\n",
      "{2: ['Mick', 'msjsjsj', 'dkdkdk'], 3: ['sdkdkdk', 'dkdkkd', 'dkdkdk']}\n"
     ]
    }
   ],
   "source": [
    "# Create a program which takes input from the user - they should enter a name, followed by a phone number, \n",
    "# an email address and a date of birth. Use a dictionary to store the information. \n",
    "# Allow the user to keep adding names and information to the dictionary until they want to stop. \n",
    "#Then ask them do they want to look up a person's information and disply it in a nicely printed output.\n",
    "\n",
    "quit = False\n",
    "\n",
    "user_ct = 1\n",
    "user_dict = {}\n",
    "\n",
    "while not quit:\n",
    "    choice = input(\"Welcome to data logger - would you like to enter a new person? Y or N\")\n",
    "    if choice == 'Y':\n",
    "        user_ct += 1\n",
    "        new_name = input(\"Please enter the name\")\n",
    "        new_email = input(\"Please enter the email\")\n",
    "        new_dob = input(\"Please enter a date of birth\")\n",
    "        user_dict[user_ct] = [new_name, new_email, new_dob]\n",
    "    elif choice == 'N':\n",
    "        quit = True\n",
    "    else:\n",
    "        quit = True\n",
    "        \n",
    "print(user_dict)"
   ]
  }
 ],
 "metadata": {
  "kernelspec": {
   "display_name": "Python 3",
   "language": "python",
   "name": "python3"
  },
  "language_info": {
   "codemirror_mode": {
    "name": "ipython",
    "version": 3
   },
   "file_extension": ".py",
   "mimetype": "text/x-python",
   "name": "python",
   "nbconvert_exporter": "python",
   "pygments_lexer": "ipython3",
   "version": "3.6.5"
  }
 },
 "nbformat": 4,
 "nbformat_minor": 2
}
