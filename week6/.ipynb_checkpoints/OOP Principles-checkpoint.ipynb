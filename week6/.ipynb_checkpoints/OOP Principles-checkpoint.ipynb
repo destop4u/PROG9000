{
 "cells": [
  {
   "cell_type": "markdown",
   "metadata": {},
   "source": [
    "# OOP Principles"
   ]
  },
  {
   "cell_type": "markdown",
   "metadata": {},
   "source": [
    "## Inheritance\n",
    "\n",
    "One of the key principles of OOP is that of inheritance. With inheritance, we can create a base class, and use this as a template to create other classes which are similar to, but not exactly like the base class. The \"base-class\" is called a parant class, and the derived classes are called the child classes.\n",
    "\n",
    "For example, say we are setting up a car-rental system. We want to create `objects` to help us with both the booking and maintenance of the vehicles. The parent class will contain properties and methods that are relevant for all the different types of vehicles, such as a vehicle id, and a registraion number, and booking status (defualted to `False`). It will also have methods to check if the vehicle is booked, and to actually book the vehicle."
   ]
  },
  {
   "cell_type": "code",
   "execution_count": 2,
   "metadata": {},
   "outputs": [],
   "source": [
    "class Vehicle:\n",
    "    def __init__(self, vehicle_id, reg_number, num_seats, num_doors, daily_charge, vehicle_make, vehicle_model):\n",
    "        self.v_id = vehicle_id\n",
    "        self.registration_num = reg_number\n",
    "        self.is_booked = False\n",
    "        self.seats = num_seats\n",
    "        self.doors = num_doors\n",
    "        self.daily_fee = daily_charge\n",
    "        self.make = vehicle_make\n",
    "        self.model = vehicle_model\n",
    "        \n",
    "    def check_booked(self):\n",
    "        return self.is_booked\n",
    "    \n",
    "    def reserve(self, start_date, end_date, cust_id):\n",
    "        #...code to book for alloted time\n",
    "        self.is_booked = True\n",
    "        cost = self.daily_fee * (start_date - end_date)\n",
    "        return cost"
   ]
  },
  {
   "cell_type": "markdown",
   "metadata": {},
   "source": [
    "I would not actually ever create an instance of the `Vehicle` class because it is too generic to be useful. Instead we will create some child classes which have more information. We do this by the following syntax:\n",
    "\n",
    "`class Van(Vehicle):`\n",
    "\n",
    "We then add an `__init__` method so we can fill in details about the van. We might also define the following class:\n",
    "\n",
    "`class EstateCar(Vehicle):`\n",
    "\n",
    "and so on....\n",
    "\n",
    "So let's do it for the these two vehicle sub-types..."
   ]
  },
  {
   "cell_type": "code",
   "execution_count": 3,
   "metadata": {},
   "outputs": [],
   "source": [
    "class Van(Vehicle):\n",
    "    def __init__(self, vehicle_id, reg_number, num_seats, num_doors, daily_charge, \n",
    "                 vehicle_make, vehicle_model, cargo_capacity, cargo_door_type):\n",
    "        \n",
    "        super().__init__(vehicle_id, reg_number, num_seats, num_doors, daily_charge, \n",
    "                 vehicle_make, vehicle_model)\n",
    "        \n",
    "        self.payload_capacity = cargo_capacity\n",
    "        self.loading_door_type = cargo_door_type\n",
    "        \n",
    "class EstateCar(Vehicle):\n",
    "    def __init__(self, vehicle_id, reg_number, num_seats, num_doors, daily_charge, \n",
    "                 vehicle_make, vehicle_model, roof_rack, tow_hitch, all_wheel_drive):\n",
    "        \n",
    "        super().__init__(vehicle_id, reg_number, num_seats, num_doors, daily_charge, \n",
    "                 vehicle_make, vehicle_model)\n",
    "        # next lines are specifically for the child class\n",
    "        self.has_roof_rack = roof_rack\n",
    "        self.has_tow_hitch = tow_hitch\n",
    "        self.all_wheel_drive = all_wheel_drive"
   ]
  },
  {
   "cell_type": "markdown",
   "metadata": {},
   "source": [
    "There is tons more to OOP - we may return to it if we have time later on. If you want to see more, have a look at https://www.python-course.eu/python3_inheritance.php"
   ]
  },
  {
   "cell_type": "code",
   "execution_count": 6,
   "metadata": {},
   "outputs": [],
   "source": [
    "dbn_1234 = EstateCar(vehicle_make= \"Subaru\", \n",
    "                     vehicle_model= \"Legacy\",\n",
    "                     all_wheel_drive= True,\n",
    "                     roof_rack=True, \n",
    "                     tow_hitch=False, \n",
    "                     vehicle_id= \"dbn_1234\",\n",
    "                     daily_charge= 20, \n",
    "                     num_doors= 5, num_seats=6, \n",
    "                     reg_number= \"04D19283\")"
   ]
  },
  {
   "cell_type": "code",
   "execution_count": 9,
   "metadata": {},
   "outputs": [
    {
     "data": {
      "text/plain": [
       "False"
      ]
     },
     "execution_count": 9,
     "metadata": {},
     "output_type": "execute_result"
    }
   ],
   "source": [
    "# how we call a method\n",
    "\n",
    "dbn_1234.check_booked()"
   ]
  },
  {
   "cell_type": "code",
   "execution_count": 10,
   "metadata": {},
   "outputs": [
    {
     "data": {
      "text/plain": [
       "'04D19283'"
      ]
     },
     "execution_count": 10,
     "metadata": {},
     "output_type": "execute_result"
    }
   ],
   "source": [
    "# how we call an attribute\n",
    "\n",
    "dbn_1234.registration_num"
   ]
  }
 ],
 "metadata": {
  "kernelspec": {
   "display_name": "Python 3",
   "language": "python",
   "name": "python3"
  },
  "language_info": {
   "codemirror_mode": {
    "name": "ipython",
    "version": 3
   },
   "file_extension": ".py",
   "mimetype": "text/x-python",
   "name": "python",
   "nbconvert_exporter": "python",
   "pygments_lexer": "ipython3",
   "version": "3.6.5"
  }
 },
 "nbformat": 4,
 "nbformat_minor": 2
}
