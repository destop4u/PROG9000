{
 "cells": [
  {
   "cell_type": "code",
   "execution_count": 15,
   "metadata": {},
   "outputs": [],
   "source": [
    "class Fruit:\n",
    "    def __init__(self, colour, size, has_seeds, has_stone, \n",
    "                 is_sweet, peelable, price_per_kg, typical_weight):\n",
    "        self.colour = colour\n",
    "        self.size = size\n",
    "        self.has_seeds = has_seeds\n",
    "        self.has_stone = has_stone\n",
    "        self.is_sweet = is_sweet\n",
    "        self.peelable = peelable\n",
    "        self.price_p_kg = price_per_kg\n",
    "        self.typ_w = typical_weight\n",
    "        \n",
    "    def typical_price():\n",
    "        price = self.price_p_kg * self.typ_w\n",
    "        return price\n",
    "    \n",
    "class Citrus(Fruit):\n",
    "    def __init__(self, colour, size, has_seeds, has_stone, \n",
    "                 is_sweet, peelable, price_per_kg, typical_weight, is_sour):\n",
    "        super().__init__(colour, size, has_seeds, has_stone, \n",
    "                 is_sweet, peelable, price_per_kg, typical_weight)        \n",
    "        self.is_sour = is_sour\n",
    "        \n",
    "    def worth_the_effort(self):\n",
    "        if self.size ==  \"small\" and self.peelable == True:\n",
    "            return \"not worth it\"\n",
    "        \n",
    "lime_234 = Citrus(\"green\",\n",
    "                 \"small\",\n",
    "                 False,\n",
    "                 False,\n",
    "                 None,\n",
    "                 True,\n",
    "                 10,\n",
    "                 0.06,\n",
    "                 True)\n",
    "        \n",
    "        \n",
    "        \n",
    "        \n",
    "        \n",
    "        \n",
    "        \n",
    "    "
   ]
  },
  {
   "cell_type": "code",
   "execution_count": 16,
   "metadata": {},
   "outputs": [
    {
     "data": {
      "text/plain": [
       "'not worth it'"
      ]
     },
     "execution_count": 16,
     "metadata": {},
     "output_type": "execute_result"
    }
   ],
   "source": [
    "lime_234.worth_the_effort()"
   ]
  },
  {
   "cell_type": "code",
   "execution_count": 17,
   "metadata": {},
   "outputs": [
    {
     "data": {
      "text/plain": [
       "True"
      ]
     },
     "execution_count": 17,
     "metadata": {},
     "output_type": "execute_result"
    }
   ],
   "source": [
    "lime_234.is_sour"
   ]
  }
 ],
 "metadata": {
  "kernelspec": {
   "display_name": "Python 3",
   "language": "python",
   "name": "python3"
  },
  "language_info": {
   "codemirror_mode": {
    "name": "ipython",
    "version": 3
   },
   "file_extension": ".py",
   "mimetype": "text/x-python",
   "name": "python",
   "nbconvert_exporter": "python",
   "pygments_lexer": "ipython3",
   "version": "3.6.5"
  }
 },
 "nbformat": 4,
 "nbformat_minor": 2
}
