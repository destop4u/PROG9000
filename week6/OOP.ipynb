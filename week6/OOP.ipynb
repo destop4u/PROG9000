{
 "cells": [
  {
   "cell_type": "markdown",
   "metadata": {},
   "source": [
    "# Object Oriented Programming (OOP)\n",
    "\n",
    "Python is an _object oriented programming language_. Virtually everything in Python is an object, in that they have:\n",
    "\n",
    " - properties (also known as attributes)\n",
    " - methods\n",
    " \n",
    " An object in Python is called a _Class_.\n",
    " \n",
    "Properties or attributes are the things that define the object - something that is set or retrieved. Methods are the abilities that the object has - that is the functions that it can implement."
   ]
  },
  {
   "cell_type": "markdown",
   "metadata": {},
   "source": [
    "For example, let's consider a simple object, one that we could come accross in our everyday use of smartphones or computers. The __button__....\n",
    "\n",
    "A button might have the following properties:\n",
    " \n",
    " - colour\n",
    " - width\n",
    " - length\n",
    " - label\n",
    " - name\n",
    " - visibility\n",
    " - active (or enabled)\n",
    " \n",
    "The button might also have the following methods:\n",
    "\n",
    " - onCLick\n",
    " - onHover\n",
    " - onDoubleClick\n",
    " - onPress\n",
    " - onRelease\n",
    "\n",
    "Try interacting with some of the buttons on the top bar of the Jupyter notebook. See if you can identify which if any of the above methods are implemented for those buttons..."
   ]
  },
  {
   "cell_type": "markdown",
   "metadata": {},
   "source": [
    "## Defining a Class\n",
    "\n",
    "To define a Class, we use the keyword `class` then follow with the name of the class. By convention, we use camelcase to name objects in Python - that is words are capitalised without spaces between. ThisIsAnExampleOfCamelCase."
   ]
  },
  {
   "cell_type": "code",
   "execution_count": null,
   "metadata": {},
   "outputs": [],
   "source": [
    "class MyButton:\n",
    "    colour = 'blue'"
   ]
  },
  {
   "cell_type": "markdown",
   "metadata": {},
   "source": [
    "The above is a perfectly valid class, but it does not really make itself useful to us. It might be more convenient to allow someone to intialise the object with some default properties, or to pass in some required properties when creating a new `instance` of the class.\n",
    "\n",
    "Oh, by the way, an `instance` is what we call an individual object that we cretae. The above code does not create a class, it just provides a scaffold for us to build our own. It's like when we define a function - until we call it it doesn't actually do anything.\n",
    "\n",
    "So, we'll add some more bits to make our class more useful."
   ]
  },
  {
   "cell_type": "code",
   "execution_count": null,
   "metadata": {},
   "outputs": [],
   "source": [
    "class MyButton:\n",
    "    def __init__(self, colour = \"grey\", w, l, lbl, btn_name, vis, enabled):\n",
    "        self.btn_colour = colour\n",
    "        self.btn_width = w\n",
    "        self.btn_length = l\n",
    "        self.btn_lbl = lbl\n",
    "        self.btn_name = btn_name\n",
    "        self.is_visible = vis\n",
    "        self.is_enabled = enabled"
   ]
  },
  {
   "cell_type": "markdown",
   "metadata": {},
   "source": [
    "Note that in the code above I have set a default value for colour in the arguments for the `__init__` method. The `__init__` method is called (or run) every time a new instance of the class is created. The next code block will create an \"OK\" button - see if you can figure out what it would actually look like if it were created... \n",
    "\n",
    "By the way, `self` is just the convention in Python and a lot of other languages for referring to the object that is currently in context. You could call it whatever you want - `def __init__(myself, ...)` but it's better to go with convention so other people can read your code easily."
   ]
  },
  {
   "cell_type": "raw",
   "metadata": {},
   "source": [
    "ok_button = MyButton(\"blue\", 20, 5, 'OK', 'btnOK', True, False)"
   ]
  },
  {
   "cell_type": "markdown",
   "metadata": {},
   "source": [
    "So right now, our button doesn't actually do anything. A class does not _have_ to do anything - it could just be a really nicely designed object to represent something. But giving a class some methods is a really neat way of coding functionality into our objects. Below we will implement the functions we specified in the second chunk."
   ]
  },
  {
   "cell_type": "code",
   "execution_count": null,
   "metadata": {},
   "outputs": [],
   "source": [
    "class MyButton:\n",
    "    def __init__(self, colour = \"grey\", w, l, lbl, btn_name, vis, enabled):\n",
    "        self.btn_colour = colour\n",
    "        self.btn_width = w\n",
    "        self.btn_length = l\n",
    "        self.btn_lbl = lbl\n",
    "        self.__name__ = btn_name\n",
    "        self.is_visible = vis\n",
    "        self.is_enabled = enabled\n",
    "        \n",
    "    def onClick():\n",
    "        print(\"You clicked the Button!\")\n",
    "        \n",
    "    def onHover():\n",
    "        self.label = self.label[::-1]\n",
    "        \n",
    "    def onDoubleClick():\n",
    "        print(\"Computer will now self-destruct\\n\\n Only kidding!\")\n",
    "        self.enabled = False\n",
    "        \n",
    "    def onPress():\n",
    "        self.colour = 'blue'\n",
    "        \n",
    "    def onRelease():\n",
    "        self.colour = 'red'"
   ]
  },
  {
   "cell_type": "markdown",
   "metadata": {},
   "source": [
    "Can you figure out what will happen because of each method?"
   ]
  },
  {
   "cell_type": "markdown",
   "metadata": {},
   "source": [
    "Further reading on this topic can be found at https://realpython.com/python3-object-oriented-programming/#what-is-object-oriented-programming-oop"
   ]
  }
 ],
 "metadata": {
  "kernelspec": {
   "display_name": "Python 3",
   "language": "python",
   "name": "python3"
  },
  "language_info": {
   "codemirror_mode": {
    "name": "ipython",
    "version": 3
   },
   "file_extension": ".py",
   "mimetype": "text/x-python",
   "name": "python",
   "nbconvert_exporter": "python",
   "pygments_lexer": "ipython3",
   "version": "3.6.5"
  }
 },
 "nbformat": 4,
 "nbformat_minor": 2
}
